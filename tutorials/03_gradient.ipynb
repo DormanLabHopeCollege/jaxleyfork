{
 "cells": [
  {
   "cell_type": "code",
   "execution_count": 1,
   "id": "b9b65962",
   "metadata": {},
   "outputs": [],
   "source": [
    "%load_ext autoreload\n",
    "%autoreload 2"
   ]
  },
  {
   "cell_type": "code",
   "execution_count": 2,
   "id": "9080e48d",
   "metadata": {},
   "outputs": [],
   "source": [
    "# I have experienced stability issues with float32.\n",
    "from jax.config import config\n",
    "config.update(\"jax_enable_x64\", True)\n",
    "config.update(\"jax_platform_name\", \"cpu\")\n",
    "\n",
    "import os\n",
    "os.environ[\"XLA_PYTHON_CLIENT_MEM_FRACTION\"]=\".8\""
   ]
  },
  {
   "cell_type": "code",
   "execution_count": 3,
   "id": "afe230e3",
   "metadata": {},
   "outputs": [],
   "source": [
    "import time\n",
    "import matplotlib.pyplot as plt\n",
    "import numpy as np\n",
    "import jax\n",
    "import jax.numpy as jnp\n",
    "from jax import jit, value_and_grad\n",
    "\n",
    "import neurax as nx\n",
    "from neurax.channels import HHChannel\n",
    "from neurax.synapses import GlutamateSynapse"
   ]
  },
  {
   "cell_type": "markdown",
   "id": "3cf99125",
   "metadata": {},
   "source": [
    "### Setup"
   ]
  },
  {
   "cell_type": "code",
   "execution_count": 4,
   "id": "59a23ee7",
   "metadata": {},
   "outputs": [],
   "source": [
    "# Number of segments per branch.\n",
    "nseg_per_branch = 8\n",
    "\n",
    "# Stimulus.\n",
    "i_delay = 3.0  # ms\n",
    "i_amp = 0.05  # nA\n",
    "i_dur = 2.0  # ms\n",
    "\n",
    "# Duration and step size.\n",
    "dt = 0.025  # ms\n",
    "t_max = 50.0  # ms"
   ]
  },
  {
   "cell_type": "code",
   "execution_count": 5,
   "id": "764b53b0",
   "metadata": {},
   "outputs": [],
   "source": [
    "time_vec = jnp.arange(0.0, t_max+dt, dt)"
   ]
  },
  {
   "cell_type": "markdown",
   "id": "762351d9",
   "metadata": {},
   "source": [
    "### Define stimuli and recordings"
   ]
  },
  {
   "cell_type": "code",
   "execution_count": 6,
   "id": "2bf78434",
   "metadata": {},
   "outputs": [],
   "source": [
    "recs = [nx.Recording(cell_ind, 1, 0.0) for cell_ind in range(5)]\n",
    "stims = [\n",
    "    nx.Stimulus(stim_ind, 1, 0.0, current=nx.step_current(i_delay, i_dur, i_amp, time_vec)) for stim_ind in range(2)\n",
    "]"
   ]
  },
  {
   "cell_type": "markdown",
   "id": "10a1c633",
   "metadata": {},
   "source": [
    "### Let's define a network"
   ]
  },
  {
   "cell_type": "code",
   "execution_count": 19,
   "id": "1ec9c8b6",
   "metadata": {},
   "outputs": [],
   "source": [
    "comp = nx.Compartment()\n",
    "branch = nx.Branch([comp for _ in range(nseg_per_branch)])\n",
    "cell = nx.Cell([branch for _ in range(5)], parents=jnp.asarray([-1, 0, 0, 1, 1]))"
   ]
  },
  {
   "cell_type": "code",
   "execution_count": 28,
   "id": "0a629f05",
   "metadata": {},
   "outputs": [],
   "source": [
    "_ = np.random.seed(0)\n",
    "conn_builder = nx.ConnectivityBuilder([cell.total_nbranches for _ in range(5)])\n",
    "connectivities = [nx.Connectivity(GlutamateSynapse(), conn_builder.fc(np.arange(0, 2), np.arange(2, 5)))]"
   ]
  },
  {
   "cell_type": "code",
   "execution_count": 29,
   "id": "85d561c1",
   "metadata": {},
   "outputs": [],
   "source": [
    "network = nx.Network([cell for _ in range(5)], connectivities)"
   ]
  },
  {
   "cell_type": "code",
   "execution_count": 30,
   "id": "5466d693",
   "metadata": {},
   "outputs": [],
   "source": [
    "network.insert(HHChannel())"
   ]
  },
  {
   "cell_type": "markdown",
   "id": "cd1df7cc",
   "metadata": {},
   "source": [
    "### Defining trainable parameters"
   ]
  },
  {
   "cell_type": "markdown",
   "id": "35b878d9",
   "metadata": {},
   "source": [
    "This follows the same API as `.set_params()` seen in the previous tutorial. If you want to use a single parameter for all `radius`es in the entire network, do:"
   ]
  },
  {
   "cell_type": "code",
   "execution_count": 31,
   "id": "1cf522bd",
   "metadata": {},
   "outputs": [],
   "source": [
    "network.make_trainable(\"radius\", 0.5)"
   ]
  },
  {
   "cell_type": "markdown",
   "id": "7ea0d0f2",
   "metadata": {},
   "source": [
    "The second input (`0.5`) is the initial value that is assigned to the parameter."
   ]
  },
  {
   "cell_type": "markdown",
   "id": "6996c59c",
   "metadata": {},
   "source": [
    "We can also define parameters for individual compartments. To do this, use the `\"all\"` key. The following defines a separate parameter the sodium conductance for every compartment in the entire network:"
   ]
  },
  {
   "cell_type": "code",
   "execution_count": 32,
   "id": "0b451d95",
   "metadata": {},
   "outputs": [],
   "source": [
    "network.cell(\"all\").branch(\"all\").comp(\"all\").make_trainable(\"gNa\", 0.5)"
   ]
  },
  {
   "cell_type": "markdown",
   "id": "37300938",
   "metadata": {},
   "source": [
    "### Making synaptic parameters trainable"
   ]
  },
  {
   "cell_type": "markdown",
   "id": "e4d0a064",
   "metadata": {},
   "source": [
    "Synaptic parameters can be made trainable in the exact same way. To use a single parameter for all syanptic conductances in the entire network, do"
   ]
  },
  {
   "cell_type": "code",
   "execution_count": 33,
   "id": "9179e2ea",
   "metadata": {},
   "outputs": [],
   "source": [
    "network.make_trainable(\"gS\", 0.2)"
   ]
  },
  {
   "cell_type": "markdown",
   "id": "d4f5cbaa",
   "metadata": {},
   "source": [
    "and to use a different syanptic conductance for all syanpses, do"
   ]
  },
  {
   "cell_type": "code",
   "execution_count": 35,
   "id": "83e0f4a1",
   "metadata": {},
   "outputs": [],
   "source": [
    "network.GlutamateSynapse(\"all\").make_trainable(\"gS\", 0.2)"
   ]
  },
  {
   "cell_type": "markdown",
   "id": "22d734de",
   "metadata": {},
   "source": [
    "### Running the simulation again"
   ]
  },
  {
   "cell_type": "markdown",
   "id": "4eb5490b",
   "metadata": {},
   "source": [
    "Once all parameters are defined, you have to use `.get_parameters()` to obtain all trainable parameters. This is also the time to check how many trainable parameters your network has:"
   ]
  },
  {
   "cell_type": "code",
   "execution_count": 37,
   "id": "955824dd",
   "metadata": {},
   "outputs": [],
   "source": [
    "params = network.get_parameters()\n",
    "# print(params)"
   ]
  },
  {
   "cell_type": "markdown",
   "id": "6540fe81",
   "metadata": {},
   "source": [
    "You can now run the simulation with the trainable parameters by passing them to the `nx.integrate` function."
   ]
  },
  {
   "cell_type": "code",
   "execution_count": 38,
   "id": "12c28c21",
   "metadata": {},
   "outputs": [],
   "source": [
    "s = nx.integrate(network, stimuli=stims, recordings=recs, delta_t=dt, params=params)"
   ]
  },
  {
   "cell_type": "markdown",
   "id": "7dccb6e8",
   "metadata": {},
   "source": [
    "### Defining a loss function"
   ]
  },
  {
   "cell_type": "markdown",
   "id": "f65a0012",
   "metadata": {},
   "source": [
    "Let us define a loss function to be optimized:"
   ]
  },
  {
   "cell_type": "code",
   "execution_count": 39,
   "id": "1ef2e118",
   "metadata": {},
   "outputs": [],
   "source": [
    "def loss(params):\n",
    "    s = nx.integrate(network, stimuli=stims, recordings=recs, delta_t=dt, params=params)\n",
    "    return jnp.sum(s[0, -1])"
   ]
  },
  {
   "cell_type": "markdown",
   "id": "9d08221f",
   "metadata": {},
   "source": [
    "And we can use `JAX`'s inbuilt functions to take the gradient through the entire ODE:"
   ]
  },
  {
   "cell_type": "code",
   "execution_count": 40,
   "id": "4c983f5b",
   "metadata": {},
   "outputs": [],
   "source": [
    "jitted_grad = jit(value_and_grad(loss))"
   ]
  },
  {
   "cell_type": "code",
   "execution_count": 41,
   "id": "22c7ecb8",
   "metadata": {},
   "outputs": [],
   "source": [
    "value, gradient = jitted_grad(params)"
   ]
  },
  {
   "cell_type": "code",
   "execution_count": null,
   "id": "df3e5691",
   "metadata": {},
   "outputs": [],
   "source": []
  }
 ],
 "metadata": {
  "kernelspec": {
   "display_name": "Python 3 (ipykernel)",
   "language": "python",
   "name": "python3"
  },
  "language_info": {
   "codemirror_mode": {
    "name": "ipython",
    "version": 3
   },
   "file_extension": ".py",
   "mimetype": "text/x-python",
   "name": "python",
   "nbconvert_exporter": "python",
   "pygments_lexer": "ipython3",
   "version": "3.10.11"
  }
 },
 "nbformat": 4,
 "nbformat_minor": 5
}
