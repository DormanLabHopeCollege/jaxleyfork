{
 "cells": [
  {
   "cell_type": "code",
   "execution_count": 1,
   "id": "f64c14b3",
   "metadata": {},
   "outputs": [],
   "source": [
    "%load_ext autoreload\n",
    "%autoreload 2"
   ]
  },
  {
   "cell_type": "code",
   "execution_count": 2,
   "id": "abb54a92",
   "metadata": {},
   "outputs": [],
   "source": [
    "# I have experienced stability issues with float32.\n",
    "from jax.config import config\n",
    "config.update(\"jax_enable_x64\", True)\n",
    "config.update(\"jax_platform_name\", \"cpu\")\n",
    "\n",
    "import os\n",
    "os.environ[\"XLA_PYTHON_CLIENT_MEM_FRACTION\"]=\".8\""
   ]
  },
  {
   "cell_type": "code",
   "execution_count": 3,
   "id": "20e527e2",
   "metadata": {},
   "outputs": [],
   "source": [
    "import time\n",
    "import matplotlib.pyplot as plt\n",
    "import numpy as np\n",
    "import jax\n",
    "import jax.numpy as jnp\n",
    "from jax import jit, value_and_grad\n",
    "\n",
    "import neurax as nx\n",
    "from neurax.channels import HHChannel\n",
    "from neurax.synapses import GlutamateSynapse"
   ]
  },
  {
   "cell_type": "markdown",
   "id": "ee38d44d",
   "metadata": {},
   "source": [
    "### Setup"
   ]
  },
  {
   "cell_type": "code",
   "execution_count": 4,
   "id": "398bc578",
   "metadata": {},
   "outputs": [],
   "source": [
    "# Number of segments per branch.\n",
    "nseg_per_branch = 8\n",
    "\n",
    "# Stimulus.\n",
    "i_delay = 3.0  # ms\n",
    "i_amp = 0.05  # nA\n",
    "i_dur = 2.0  # ms\n",
    "\n",
    "# Duration and step size.\n",
    "dt = 0.025  # ms\n",
    "t_max = 50.0  # ms"
   ]
  },
  {
   "cell_type": "code",
   "execution_count": 5,
   "id": "d6fb9a8c",
   "metadata": {},
   "outputs": [],
   "source": [
    "time_vec = jnp.arange(0.0, t_max+dt, dt)"
   ]
  },
  {
   "cell_type": "markdown",
   "id": "3dcfbc55",
   "metadata": {},
   "source": [
    "### Define stimuli and recordings"
   ]
  },
  {
   "cell_type": "code",
   "execution_count": 6,
   "id": "1245ebc7",
   "metadata": {},
   "outputs": [],
   "source": [
    "recs = [nx.Recording(cell_ind, 1, 0.0) for cell_ind in range(5)]\n",
    "stims = [\n",
    "    nx.Stimulus(stim_ind, 1, 0.0, current=nx.step_current(i_delay, i_dur, i_amp, time_vec)) for stim_ind in range(2)\n",
    "]"
   ]
  },
  {
   "cell_type": "markdown",
   "id": "b2b9347b",
   "metadata": {},
   "source": [
    "### Let's define a network"
   ]
  },
  {
   "cell_type": "code",
   "execution_count": 19,
   "id": "ef38e5af",
   "metadata": {},
   "outputs": [],
   "source": [
    "comp = nx.Compartment()\n",
    "branch = nx.Branch([comp for _ in range(nseg_per_branch)])\n",
    "cell = nx.Cell([branch for _ in range(5)], parents=jnp.asarray([-1, 0, 0, 1, 1]))"
   ]
  },
  {
   "cell_type": "code",
   "execution_count": 28,
   "id": "a775e29d",
   "metadata": {},
   "outputs": [],
   "source": [
    "_ = np.random.seed(0)\n",
    "conn_builder = nx.ConnectivityBuilder([cell.total_nbranches for _ in range(5)])\n",
    "connectivities = [nx.Connectivity(GlutamateSynapse(), conn_builder.fc(np.arange(0, 2), np.arange(2, 5)))]"
   ]
  },
  {
   "cell_type": "code",
   "execution_count": 29,
   "id": "56a3e1f1",
   "metadata": {},
   "outputs": [],
   "source": [
    "network = nx.Network([cell for _ in range(5)], connectivities)"
   ]
  },
  {
   "cell_type": "code",
   "execution_count": 30,
   "id": "a417fa8b",
   "metadata": {},
   "outputs": [],
   "source": [
    "network.insert(HHChannel())"
   ]
  },
  {
   "cell_type": "markdown",
   "id": "539aaa3c",
   "metadata": {},
   "source": [
    "### Defining trainable parameters"
   ]
  },
  {
   "cell_type": "markdown",
   "id": "d8e2bbd6",
   "metadata": {},
   "source": [
    "This follows the same API as `.set_params()` seen in the previous tutorial. If you want to use a single parameter for all `radius`es in the entire network, do:"
   ]
  },
  {
   "cell_type": "code",
   "execution_count": 31,
   "id": "afd9f632",
   "metadata": {},
   "outputs": [],
   "source": [
    "network.make_trainable(\"radius\")"
   ]
  },
  {
   "cell_type": "markdown",
   "id": "91310ca2",
   "metadata": {},
   "source": [
    "We can also define parameters for individual compartments. To do this, use the `\"all\"` key. The following defines a separate parameter the sodium conductance for every compartment in the entire network:"
   ]
  },
  {
   "cell_type": "code",
   "execution_count": 32,
   "id": "ddce2659",
   "metadata": {},
   "outputs": [],
   "source": [
    "network.cell(\"all\").branch(\"all\").comp(\"all\").make_trainable(\"gNa\")"
   ]
  },
  {
   "cell_type": "markdown",
   "id": "4a18f331",
   "metadata": {},
   "source": [
    "### Making synaptic parameters trainable"
   ]
  },
  {
   "cell_type": "markdown",
   "id": "74b6e379",
   "metadata": {},
   "source": [
    "Synaptic parameters can be made trainable in the exact same way. To use a single parameter for all syanptic conductances in the entire network, do"
   ]
  },
  {
   "cell_type": "code",
   "execution_count": 33,
   "id": "69e90977",
   "metadata": {},
   "outputs": [],
   "source": [
    "network.make_trainable(\"gS\")"
   ]
  },
  {
   "cell_type": "markdown",
   "id": "e0e1b8b8",
   "metadata": {},
   "source": [
    "and to use a different syanptic conductance for all syanpses, do"
   ]
  },
  {
   "cell_type": "code",
   "execution_count": 35,
   "id": "add0a8d3",
   "metadata": {},
   "outputs": [],
   "source": [
    "network.GlutamateSynapse(\"all\").make_trainable(\"gS\")"
   ]
  },
  {
   "cell_type": "markdown",
   "id": "637ef83c",
   "metadata": {},
   "source": [
    "### Running the simulation again"
   ]
  },
  {
   "cell_type": "markdown",
   "id": "7b1b00db",
   "metadata": {},
   "source": [
    "Once all parameters are defined, you have to use `.get_parameters()` to obtain all trainable parameters. This is also the time to check how many trainable parameters your network has:"
   ]
  },
  {
   "cell_type": "code",
   "execution_count": 37,
   "id": "1036fc42",
   "metadata": {},
   "outputs": [],
   "source": [
    "params = network.get_parameters()\n",
    "# print(params)"
   ]
  },
  {
   "cell_type": "markdown",
   "id": "46c8a171",
   "metadata": {},
   "source": [
    "You can now run the simulation with the trainable parameters by passing them to the `nx.integrate` function."
   ]
  },
  {
   "cell_type": "code",
   "execution_count": 38,
   "id": "9e2db54b",
   "metadata": {},
   "outputs": [],
   "source": [
    "s = nx.integrate(network, stimuli=stims, recordings=recs, delta_t=dt, params=params)"
   ]
  },
  {
   "cell_type": "markdown",
   "id": "f4c6dcb7",
   "metadata": {},
   "source": [
    "### Defining a loss function"
   ]
  },
  {
   "cell_type": "markdown",
   "id": "081cea9d",
   "metadata": {},
   "source": [
    "Let us define a loss function to be optimized:"
   ]
  },
  {
   "cell_type": "code",
   "execution_count": 39,
   "id": "8538a398",
   "metadata": {},
   "outputs": [],
   "source": [
    "def loss(params):\n",
    "    s = nx.integrate(network, stimuli=stims, recordings=recs, delta_t=dt, params=params)\n",
    "    return jnp.sum(s[0, -1])"
   ]
  },
  {
   "cell_type": "markdown",
   "id": "0cbaa835",
   "metadata": {},
   "source": [
    "And we can use `JAX`'s inbuilt functions to take the gradient through the entire ODE:"
   ]
  },
  {
   "cell_type": "code",
   "execution_count": 40,
   "id": "9564bd1d",
   "metadata": {},
   "outputs": [],
   "source": [
    "jitted_grad = jit(value_and_grad(loss))"
   ]
  },
  {
   "cell_type": "code",
   "execution_count": 41,
   "id": "6d4fc579",
   "metadata": {},
   "outputs": [],
   "source": [
    "value, gradient = jitted_grad(params)"
   ]
  },
  {
   "cell_type": "code",
   "execution_count": null,
   "id": "5652120c",
   "metadata": {},
   "outputs": [],
   "source": []
  }
 ],
 "metadata": {
  "kernelspec": {
   "display_name": "Python 3 (ipykernel)",
   "language": "python",
   "name": "python3"
  },
  "language_info": {
   "codemirror_mode": {
    "name": "ipython",
    "version": 3
   },
   "file_extension": ".py",
   "mimetype": "text/x-python",
   "name": "python",
   "nbconvert_exporter": "python",
   "pygments_lexer": "ipython3",
   "version": "3.10.11"
  }
 },
 "nbformat": 4,
 "nbformat_minor": 5
}
