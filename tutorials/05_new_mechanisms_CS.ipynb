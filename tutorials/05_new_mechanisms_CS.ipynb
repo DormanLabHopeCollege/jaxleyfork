{
 "cells": [
  {
   "cell_type": "markdown",
   "metadata": {},
   "source": [
    "# Defining your own mechanisms such as channels and synapses\n",
    "\n",
    "`neurax` provides an implementation of the standard Hodgkin-Huxley equations and of glutamatergic synapses. In this tutorial, we will explain how you can define your own mechanisms."
   ]
  },
  {
   "cell_type": "code",
   "execution_count": 1,
   "id": "a55ceb50",
   "metadata": {},
   "outputs": [],
   "source": [
    "%load_ext autoreload\n",
    "%autoreload 2\n",
    "\n",
    "# I have experienced stability issues with float32.\n",
    "from jax.config import config\n",
    "config.update(\"jax_enable_x64\", True)\n",
    "config.update(\"jax_platform_name\", \"cpu\")\n",
    "\n",
    "import os\n",
    "os.environ[\"XLA_PYTHON_CLIENT_MEM_FRACTION\"]=\".8\""
   ]
  },
  {
   "cell_type": "code",
   "execution_count": 2,
   "id": "e4a77e9c",
   "metadata": {},
   "outputs": [],
   "source": [
    "import time\n",
    "import matplotlib.pyplot as plt\n",
    "import numpy as np\n",
    "import jax\n",
    "import jax.numpy as jnp\n",
    "from jax import jit, value_and_grad\n",
    "\n",
    "import neurax as nx\n",
    "from neurax.channels import HHChannel\n",
    "from neurax.synapses import GlutamateSynapse"
   ]
  },
  {
   "cell_type": "markdown",
   "id": "8f320f91",
   "metadata": {},
   "source": [
    "### Setup"
   ]
  },
  {
   "cell_type": "code",
   "execution_count": 105,
   "id": "17ed5c80",
   "metadata": {},
   "outputs": [],
   "source": [
    "# Number of segments per branch.\n",
    "nseg_per_branch = 1\n",
    "\n",
    "# Stimulus.\n",
    "i_delay = 3.0  # ms\n",
    "i_amp = 0.05  # nA\n",
    "i_dur = 2.0  # ms\n",
    "\n",
    "# Duration and step size.\n",
    "dt = 0.025  # ms\n",
    "t_max = 50.0  # ms\n",
    "\n",
    "time_vec = jnp.arange(0.0, t_max+dt, dt)"
   ]
  },
  {
   "cell_type": "markdown",
   "id": "04b25a9f",
   "metadata": {},
   "source": [
    "### Define a cell"
   ]
  },
  {
   "cell_type": "code",
   "execution_count": 158,
   "id": "9fd05ca5",
   "metadata": {},
   "outputs": [],
   "source": [
    "comp = nx.Compartment()\n",
    "branch = nx.Branch([comp for _ in range(nseg_per_branch)])\n",
    "#cell = nx.Cell([branch for _ in range(5)], parents=jnp.asarray([-1, 0, 0, 1, 1]))\n",
    "\n",
    "# point neuron:\n",
    "cell = nx.Cell([branch for _ in range(1)], parents=jnp.asarray([-1]))"
   ]
  },
  {
   "cell_type": "code",
   "execution_count": 159,
   "id": "67295898",
   "metadata": {},
   "outputs": [
    {
     "data": {
      "image/png": "[encoded data removed]",
      "text/plain": [
       "<Figure size 400x400 with 1 Axes>"
      ]
     },
     "metadata": {},
     "output_type": "display_data"
    }
   ],
   "source": [
    "_ = nx.utils.plot_morph(cell, figsize=(4, 4), cols=\"k\", highlight_branch_inds=[0, 1, 2,6])"
   ]
  },
  {
   "cell_type": "code",
   "execution_count": 160,
   "id": "0123f0a2",
   "metadata": {},
   "outputs": [
    {
     "data": {
      "text/html": [
       "<div>\n",
       "<style scoped>\n",
       "    .dataframe tbody tr th:only-of-type {\n",
       "        vertical-align: middle;\n",
       "    }\n",
       "\n",
       "    .dataframe tbody tr th {\n",
       "        vertical-align: top;\n",
       "    }\n",
       "\n",
       "    .dataframe thead th {\n",
       "        text-align: right;\n",
       "    }\n",
       "</style>\n",
       "<table border=\"1\" class=\"dataframe\">\n",
       "  <thead>\n",
       "    <tr style=\"text-align: right;\">\n",
       "      <th></th>\n",
       "      <th>comp_index</th>\n",
       "      <th>branch_index</th>\n",
       "      <th>cell_index</th>\n",
       "      <th>length</th>\n",
       "      <th>radius</th>\n",
       "      <th>axial_resistivity</th>\n",
       "      <th>voltages</th>\n",
       "    </tr>\n",
       "  </thead>\n",
       "  <tbody>\n",
       "    <tr>\n",
       "      <th>0</th>\n",
       "      <td>0</td>\n",
       "      <td>0</td>\n",
       "      <td>0</td>\n",
       "      <td>10.0</td>\n",
       "      <td>1.0</td>\n",
       "      <td>5000.0</td>\n",
       "      <td>-70.0</td>\n",
       "    </tr>\n",
       "  </tbody>\n",
       "</table>\n",
       "</div>"
      ],
      "text/plain": [
       "   comp_index  branch_index  cell_index  length  radius  axial_resistivity  \\\n",
       "0           0             0           0    10.0     1.0             5000.0   \n",
       "\n",
       "   voltages  \n",
       "0     -70.0  "
      ]
     },
     "execution_count": 160,
     "metadata": {},
     "output_type": "execute_result"
    }
   ],
   "source": [
    "cell.show()"
   ]
  },
  {
   "cell_type": "code",
   "execution_count": 114,
   "id": "b6b9d2af",
   "metadata": {},
   "outputs": [],
   "source": [
    "#cell.set_params(\"radius\", 10)\n",
    "#cell.set_params(\"axial_resistivity\", 1)"
   ]
  },
  {
   "cell_type": "markdown",
   "id": "3c235d0a",
   "metadata": {},
   "source": [
    "### Define stimuli and recordings"
   ]
  },
  {
   "cell_type": "code",
   "execution_count": 179,
   "id": "e66f199b",
   "metadata": {},
   "outputs": [],
   "source": [
    "stims = [nx.Stimulus(0, 0, 0.0, nx.step_current(1.0, 20.0, 5, time_vec))]\n",
    "recs = [nx.Recording(0, 0, 0.0)]"
   ]
  },
  {
   "cell_type": "code",
   "execution_count": 180,
   "id": "e8c93f05",
   "metadata": {},
   "outputs": [
    {
     "data": {
      "text/plain": [
       "[<matplotlib.lines.Line2D at 0x7f7782159f90>]"
      ]
     },
     "execution_count": 180,
     "metadata": {},
     "output_type": "execute_result"
    },
    {
     "data": {
      "image/png": "[encoded data removed]",
      "text/plain": [
       "<Figure size 640x480 with 1 Axes>"
      ]
     },
     "metadata": {},
     "output_type": "display_data"
    }
   ],
   "source": [
    "plt.plot(stims[0].current)"
   ]
  },
  {
   "cell_type": "markdown",
   "id": "70f6af16",
   "metadata": {},
   "source": [
    "### Your own channel\n",
    "Below is how you can define your own channel. We will go into detail about individual parts of the code in the next couple of cells."
   ]
  },
  {
   "cell_type": "code",
   "execution_count": 270,
   "id": "1b07d51a",
   "metadata": {},
   "outputs": [],
   "source": [
    "from typing import Dict, Optional\n",
    "\n",
    "import jax.numpy as jnp\n",
    "from neurax.channels import Channel\n",
    "from neurax.solver_gate import solve_gate_exponential, solve_inf_gate_exponential"
   ]
  },
  {
   "cell_type": "code",
   "execution_count": 220,
   "id": "cf6a91de",
   "metadata": {},
   "outputs": [
    {
     "name": "stdout",
     "output_type": "stream",
     "text": [
      "\u001b[0;31mInit signature:\u001b[0m \u001b[0mChannel\u001b[0m\u001b[0;34m(\u001b[0m\u001b[0;34m)\u001b[0m\u001b[0;34m\u001b[0m\u001b[0;34m\u001b[0m\u001b[0m\n",
      "\u001b[0;31mDocstring:\u001b[0m      <no docstring>\n",
      "\u001b[0;31mFile:\u001b[0m           ~/Documents/projects/neurax/neurax/neurax/channels/channel.py\n",
      "\u001b[0;31mType:\u001b[0m           type\n",
      "\u001b[0;31mSubclasses:\u001b[0m     HHChannel, NaChannelPospi, NaChannelPospi, KChannelPospi, HHChannel, Potassium, NaKChannelsPospi"
     ]
    }
   ],
   "source": [
    "?Channel"
   ]
  },
  {
   "cell_type": "code",
   "execution_count": 163,
   "id": "595003ec",
   "metadata": {},
   "outputs": [],
   "source": [
    "\n",
    "class HHChannel(Channel):\n",
    "    \"\"\"Hodgkin-Huxley channel.\"\"\"\n",
    "\n",
    "    channel_params = {\"gNa\": 0.12, \"gK\": 0.036, \"gLeak\": 0.0003}\n",
    "    channel_states = {\"m\": 0.2, \"h\": 0.2, \"n\": 0.2}\n",
    "\n",
    "    @staticmethod\n",
    "    def step(u: Dict[str, jnp.ndarray], dt, voltages, params: Dict[str, jnp.ndarray]):\n",
    "        \"\"\"Return updated HH channel state and current.\"\"\"\n",
    "        ms, hs, ns = u[\"m\"], u[\"h\"], u[\"n\"]\n",
    "        new_m = solve_gate_exponential(ms, dt, *_m_gate(voltages))\n",
    "        new_h = solve_gate_exponential(hs, dt, *_h_gate(voltages))\n",
    "        new_n = solve_gate_exponential(ns, dt, *_n_gate(voltages))\n",
    "\n",
    "        # Multiply with 1000 to convert Siemens to milli Siemens.\n",
    "        na_conds = params[\"gNa\"] * (new_m**3) * new_h * 1000  # mS/cm^2\n",
    "        kd_conds = params[\"gK\"] * new_n**4 * 1000  # mS/cm^2\n",
    "        leak_conds = params[\"gLeak\"] * 1000  # mS/cm^2\n",
    "\n",
    "        voltage_term = na_conds + kd_conds + leak_conds\n",
    "\n",
    "        e_na = 50.0\n",
    "        e_kd = -77.0\n",
    "        e_leak = -54.3\n",
    "        constant_term = na_conds * e_na + kd_conds * e_kd + leak_conds * e_leak\n",
    "\n",
    "        return {\"m\": new_m, \"h\": new_h, \"n\": new_n}, (voltage_term, constant_term)\n",
    "\n",
    "\n",
    "def _m_gate(v):\n",
    "    alpha = 0.1 * _vtrap(-(v + 40), 10)\n",
    "    beta = 4.0 * jnp.exp(-(v + 65) / 18)\n",
    "    return alpha, beta\n",
    "\n",
    "\n",
    "def _h_gate(v):\n",
    "    alpha = 0.07 * jnp.exp(-(v + 65) / 20)\n",
    "    beta = 1.0 / (jnp.exp(-(v + 35) / 10) + 1)\n",
    "    return alpha, beta\n",
    "\n",
    "\n",
    "def _n_gate(v):\n",
    "    alpha = 0.01 * _vtrap(-(v + 55), 10)\n",
    "    beta = 0.125 * jnp.exp(-(v + 65) / 80)\n",
    "    return alpha, beta\n",
    "\n",
    "\n",
    "def _vtrap(x, y):\n",
    "    return x / (jnp.exp(x / y) - 1.0)\n",
    "\n",
    "\n",
    "\n",
    "\n",
    "def exp_update_alpha(x, y):\n",
    "    return x / (jnp.exp(x / y) - 1.0)\n",
    "\n",
    "class Potassium(Channel):\n",
    "    \"\"\"Potassium channel.\"\"\"\n",
    "\n",
    "    channel_params = {\"gK_new\": 0.06}\n",
    "    channel_states = {\"n_new\": 0.1}\n",
    "\n",
    "    @staticmethod\n",
    "    def step(u, dt, voltages, params):\n",
    "        \"\"\"Return updated HH channel state and current.\"\"\"\n",
    "        ns = u[\"n_new\"]\n",
    "        alpha = 0.01 * exp_update_alpha(-(voltages + 55), 10)\n",
    "        beta = 0.125 * jnp.exp(-(voltages + 65) / 80)\n",
    "        new_n = solve_gate_exponential(ns, dt, alpha, beta)\n",
    "\n",
    "        # Multiply with 1000 to convert Siemens to milli Siemens.\n",
    "        kd_conds = params[\"gK_new\"] * new_n**4 * 1000  # mS/cm^2\n",
    "\n",
    "        e_kd = -77.0        \n",
    "        current = kd_conds * (e_kd - voltages)\n",
    "\n",
    "        return {\"n_new\": new_n}, (jnp.zeros_like(current), current)"
   ]
  },
  {
   "cell_type": "code",
   "execution_count": 239,
   "id": "5daa2e7a",
   "metadata": {},
   "outputs": [],
   "source": [
    "# Pospischil channels\n",
    "\n",
    "class NaChannelPospi(Channel):\n",
    "    \"\"\"Sodium channel\"\"\"\n",
    "\n",
    "    channel_params = {\"gNa\": 0.05, \"eNa\": 50.0, \"vt\":-60.}\n",
    "    channel_states = {\"m\": 0.2, \"h\": 0.2}\n",
    "\n",
    "    @staticmethod\n",
    "    def step(u: Dict[str, jnp.ndarray], dt, voltages, params: Dict[str, jnp.ndarray]):\n",
    "        \"\"\"Return updated channel states and current.\"\"\"\n",
    "        ms, hs = u[\"m\"], u[\"h\"]\n",
    "        new_m = solve_gate_exponential(ms, dt, *_m_gate(voltages, params[\"vt\"]))\n",
    "        new_h = solve_gate_exponential(hs, dt, *_h_gate(voltages, params[\"vt\"]))\n",
    "\n",
    "        # Multiply with 1000 to convert Siemens to milli Siemens.\n",
    "        na_conds = params[\"gNa\"] * (new_m**3) * new_h * 1000  # mS/cm^2\n",
    "       \n",
    "        current = na_conds * (params[\"eNa\"] - voltages)\n",
    "\n",
    "\n",
    "        return {\"m\": new_m, \"h\": new_h}, (jnp.zeros_like(current), current)\n",
    "\n",
    "def _m_gate(v,vt):\n",
    "    v_alpha = v - vt - 13.\n",
    "    alpha = 0.32 * efun(-0.25 * v_alpha)/0.25\n",
    "    \n",
    "    v_beta = v - vt - 40. \n",
    "    beta = 0.28 * efun(0.2 * v_beta) / 0.2\n",
    "    return alpha, beta\n",
    "\n",
    "def _h_gate(v,vt):\n",
    "    v_alpha = v - vt - 17.\n",
    "    alpha = 0.128 * jnp.exp(-v_alpha / 18.)\n",
    "    \n",
    "    v_beta = v - vt - 40.\n",
    "    beta = 4.0 / (jnp.exp(-v_beta / 5.) + 1.)\n",
    "    return alpha, beta\n",
    "\n",
    "def efun(x):\n",
    "    # x/[exp(x)-1]\n",
    "    return x / (jnp.exp(x) - 1.0)\n",
    "\n",
    "\n",
    "\n",
    "class KChannelPospi(Channel):\n",
    "    \"\"\"Potassium channel\"\"\"\n",
    "\n",
    "    channel_params = {\"gK\": 0.005, \"eK\": -90., \"vt\":-60.}\n",
    "    channel_states = {\"n\": 0.2}\n",
    "\n",
    "    @staticmethod\n",
    "    def step(u: Dict[str, jnp.ndarray], dt, voltages, params: Dict[str, jnp.ndarray]):\n",
    "        \"\"\"Return updated channel states and current.\"\"\"\n",
    "        ns = u[\"n\"]\n",
    "        new_n = solve_gate_exponential(ns, dt, *_n_gate(voltages, params[\"vt\"]))\n",
    "\n",
    "        # Multiply with 1000 to convert Siemens to milli Siemens.\n",
    "        k_conds = params[\"gK\"] * (new_n**4) * 1000  # mS/cm^2\n",
    "       \n",
    "        current = k_conds * (params[\"eK\"] - voltages)\n",
    "\n",
    "\n",
    "        return {\"n\": new_n}, (jnp.zeros_like(current), current)\n",
    "\n",
    "def _n_gate(v,vt):\n",
    "    v_alpha = v - vt - 15.\n",
    "    alpha = 0.032 * efun(-0.2 * v_alpha)/0.2\n",
    "    \n",
    "    v_beta = v - vt - 10.\n",
    "    beta = 0.5 * jnp.exp(-v_beta/40.)\n",
    "    return alpha, beta\n",
    "\n",
    "\n",
    "class KmChannelPospi(Channel):\n",
    "    TODO: check again.\n",
    "    \"\"\"Slow M Potassium channel\"\"\"\n",
    "\n",
    "    channel_params = {\"gM\": 0.004*1e-3, \"taumax\": 4.0, \"eM\":-90.}\n",
    "    # eM is the reversal potential of K, should be set to eK if another K channel is present\n",
    "    channel_states = {\"p\": 0.2}\n",
    "\n",
    "    @staticmethod\n",
    "    def step(u: Dict[str, jnp.ndarray], dt, voltages, params: Dict[str, jnp.ndarray]):\n",
    "        \"\"\"Return updated channel states and current.\"\"\"\n",
    "        ps = u[\"p\"]\n",
    "        new_p = solve_inf_gate_exponential(ns, dt, *_p_gate(voltages, params[\"taumax\"]))\n",
    "\n",
    "        # Multiply with 1000 to convert Siemens to milli Siemens.\n",
    "        m_conds = params[\"gM\"] * new_p * 1000  # mS/cm^2\n",
    "       \n",
    "        current = m_conds * (params[\"eM\"] - voltages)\n",
    "\n",
    "\n",
    "        return {\"p\": new_n}, (jnp.zeros_like(current), current)\n",
    "\n",
    "def _p_gate(v,taumax):\n",
    "    v_p = v + 35.\n",
    "    p_inf = 1. / ( 1. + jnp.exp(-0.1 * v_p))\n",
    "    \n",
    "    tau_p = taumax / (3.3 * jnp.exp(0.2 * v_p) + jnp.exp(-0.05 * v_p) )\n",
    "    \n",
    "    return p_inf, tau_p\n"
   ]
  },
  {
   "cell_type": "code",
   "execution_count": 267,
   "id": "c401ae7c",
   "metadata": {},
   "outputs": [
    {
     "name": "stdout",
     "output_type": "stream",
     "text": [
      "\u001b[0;31mSignature:\u001b[0m\n",
      "\u001b[0msolve_gate_exponential\u001b[0m\u001b[0;34m(\u001b[0m\u001b[0;34m\u001b[0m\n",
      "\u001b[0;34m\u001b[0m    \u001b[0mx\u001b[0m\u001b[0;34m:\u001b[0m \u001b[0mjax\u001b[0m\u001b[0;34m.\u001b[0m\u001b[0mArray\u001b[0m\u001b[0;34m,\u001b[0m\u001b[0;34m\u001b[0m\n",
      "\u001b[0;34m\u001b[0m    \u001b[0mdt\u001b[0m\u001b[0;34m:\u001b[0m \u001b[0mfloat\u001b[0m\u001b[0;34m,\u001b[0m\u001b[0;34m\u001b[0m\n",
      "\u001b[0;34m\u001b[0m    \u001b[0malpha\u001b[0m\u001b[0;34m:\u001b[0m \u001b[0mjax\u001b[0m\u001b[0;34m.\u001b[0m\u001b[0mArray\u001b[0m\u001b[0;34m,\u001b[0m\u001b[0;34m\u001b[0m\n",
      "\u001b[0;34m\u001b[0m    \u001b[0mbeta\u001b[0m\u001b[0;34m:\u001b[0m \u001b[0mjax\u001b[0m\u001b[0;34m.\u001b[0m\u001b[0mArray\u001b[0m\u001b[0;34m,\u001b[0m\u001b[0;34m\u001b[0m\n",
      "\u001b[0;34m\u001b[0m\u001b[0;34m)\u001b[0m\u001b[0;34m\u001b[0m\u001b[0;34m\u001b[0m\u001b[0m\n",
      "\u001b[0;31mDocstring:\u001b[0m <no docstring>\n",
      "\u001b[0;31mFile:\u001b[0m      ~/Documents/projects/neurax/neurax/neurax/solver_gate.py\n",
      "\u001b[0;31mType:\u001b[0m      function"
     ]
    }
   ],
   "source": [
    "?solve_gate_exponential"
   ]
  },
  {
   "cell_type": "code",
   "execution_count": 266,
   "id": "a0e2438d",
   "metadata": {},
   "outputs": [
    {
     "data": {
      "text/plain": [
       "1.0"
      ]
     },
     "execution_count": 266,
     "metadata": {},
     "output_type": "execute_result"
    }
   ],
   "source": [
    "1e-3 * 1000"
   ]
  },
  {
   "cell_type": "code",
   "execution_count": 252,
   "id": "1758dc99",
   "metadata": {},
   "outputs": [],
   "source": [
    "# Pospischil channels\n",
    "\n",
    "class NaKChannelsPospi(Channel):\n",
    "    \"\"\"Sodium channel\"\"\"\n",
    "\n",
    "    channel_params = {\"gNa\": 0.05, \n",
    "                      \"eNa\": 50.0,\n",
    "                      \"gK\": 0.005,#0.005, \n",
    "                      \"eK\": -90.0, \n",
    "                      \"vt\":-60}\n",
    "    \n",
    "    channel_states = {\"m\": 0.2, \"h\": 0.2, \"n\":0.2}\n",
    "\n",
    "    @staticmethod\n",
    "    def step(u: Dict[str, jnp.ndarray], dt, voltages, params: Dict[str, jnp.ndarray]):\n",
    "        \"\"\"Return updated channel states and current.\"\"\"\n",
    "        ms, hs, ns = u[\"m\"], u[\"h\"], u[\"n\"]\n",
    "        new_m = solve_gate_exponential(ms, dt, *_m_gate(voltages, params[\"vt\"]))\n",
    "        new_h = solve_gate_exponential(hs, dt, *_h_gate(voltages, params[\"vt\"]))\n",
    "        new_n = solve_gate_exponential(ns, dt, *_n_gate(voltages, params[\"vt\"]))\n",
    "\n",
    "\n",
    "        # Multiply with 1000 to convert Siemens to milli Siemens.\n",
    "        na_conds = params[\"gNa\"] * (new_m**3) * new_h * 1000  # mS/cm^2\n",
    "        k_conds = params[\"gK\"] * (new_n**4) * 1000  # mS/cm^2\n",
    "\n",
    "        current = na_conds * (params[\"eNa\"] - voltages) +  k_conds * (params[\"eK\"] - voltages)\n",
    "\n",
    "\n",
    "        return {\"m\": new_m, \"h\": new_h, \"n\":new_n}, (jnp.zeros_like(current), current)\n",
    "\n",
    "def _m_gate(v,vt):\n",
    "    v_alpha = v - vt - 13.\n",
    "    alpha = 0.32 * efun(-0.25 * v_alpha)/0.25\n",
    "    \n",
    "    v_beta = v - vt - 40. \n",
    "    beta = 0.28 * efun(0.2 * v_beta) / 0.2\n",
    "    return alpha, beta\n",
    "\n",
    "def _h_gate(v,vt):\n",
    "    v_alpha = v - vt -17\n",
    "    alpha = 0.128 * jnp.exp(-v_alpha / 18)\n",
    "    \n",
    "    v_beta = v - vt - 40\n",
    "    beta = 4.0 / (jnp.exp(-v_beta / 5) + 1)\n",
    "    return alpha, beta\n",
    "\n",
    "def efun(x):\n",
    "    # x/[exp(x)-1]\n",
    "    return x / (jnp.exp(x) - 1.0)\n",
    "\n",
    "\n",
    "def _n_gate(v,vt):\n",
    "    v_alpha = v - vt - 15.\n",
    "    alpha = 0.032 * efun(-0.2 * v_alpha)/0.2\n",
    "    \n",
    "    v_beta = v - vt - 10 \n",
    "    beta = 0.5 * jnp.exp(-v_beta/40)\n",
    "    return alpha, beta\n"
   ]
  },
  {
   "cell_type": "code",
   "execution_count": 261,
   "id": "3e617096",
   "metadata": {},
   "outputs": [],
   "source": [
    "comp = nx.Compartment()\n",
    "branch = nx.Branch([comp for _ in range(nseg_per_branch)])\n",
    "cell = nx.Cell([branch for _ in range(5)], parents=jnp.asarray([-1, 0, 0, 1, 1]))\n"
   ]
  },
  {
   "cell_type": "code",
   "execution_count": 165,
   "id": "2e3932f7",
   "metadata": {},
   "outputs": [],
   "source": [
    "cell.insert(HHChannel)\n",
    "#cell.insert(Potassium)"
   ]
  },
  {
   "cell_type": "code",
   "execution_count": 262,
   "id": "963fa770",
   "metadata": {},
   "outputs": [],
   "source": [
    "cell.insert(NaChannelPospi)\n",
    "cell.insert(KChannelPospi)"
   ]
  },
  {
   "cell_type": "code",
   "execution_count": 254,
   "id": "e1803ada",
   "metadata": {},
   "outputs": [],
   "source": [
    "cell.insert(NaKChannelsPospi)"
   ]
  },
  {
   "cell_type": "code",
   "execution_count": 263,
   "id": "be73a881",
   "metadata": {},
   "outputs": [
    {
     "ename": "TypeError",
     "evalue": "mul got incompatible shapes for broadcasting: (5,), (10,).",
     "output_type": "error",
     "traceback": [
      "\u001b[0;31m---------------------------------------------------------------------------\u001b[0m",
      "\u001b[0;31mTypeError\u001b[0m                                 Traceback (most recent call last)",
      "Cell \u001b[0;32mIn[263], line 4\u001b[0m\n\u001b[1;32m      1\u001b[0m stims \u001b[39m=\u001b[39m [nx\u001b[39m.\u001b[39mStimulus(\u001b[39m0\u001b[39m, \u001b[39m0\u001b[39m, \u001b[39m0.0\u001b[39m, nx\u001b[39m.\u001b[39mstep_current(\u001b[39m1.0\u001b[39m, \u001b[39m20.0\u001b[39m, \u001b[39m0.03\u001b[39m, time_vec))]\n\u001b[1;32m      2\u001b[0m recs \u001b[39m=\u001b[39m [nx\u001b[39m.\u001b[39mRecording(\u001b[39m0\u001b[39m, \u001b[39m0\u001b[39m, \u001b[39m0.0\u001b[39m)]\n\u001b[0;32m----> 4\u001b[0m s \u001b[39m=\u001b[39m nx\u001b[39m.\u001b[39;49mintegrate(cell, stims, recs)\n",
      "File \u001b[0;32m~/Documents/projects/neurax/neurax/neurax/integrate.py:104\u001b[0m, in \u001b[0;36mintegrate\u001b[0;34m(module, stimuli, recordings, params, t_max, delta_t, solver, tridiag_solver, checkpoint_lengths)\u001b[0m\n\u001b[1;32m    101\u001b[0m \u001b[39mfor\u001b[39;00m key \u001b[39min\u001b[39;00m module\u001b[39m.\u001b[39msyn_states:\n\u001b[1;32m    102\u001b[0m     states[key] \u001b[39m=\u001b[39m module\u001b[39m.\u001b[39msyn_states[key]\n\u001b[0;32m--> 104\u001b[0m _, recordings \u001b[39m=\u001b[39m nested_checkpoint_scan(\n\u001b[1;32m    105\u001b[0m     _body_fun, states, i_current, length\u001b[39m=\u001b[39;49mlength, nested_lengths\u001b[39m=\u001b[39;49mcheckpoint_lengths\n\u001b[1;32m    106\u001b[0m )\n\u001b[1;32m    107\u001b[0m \u001b[39mreturn\u001b[39;00m jnp\u001b[39m.\u001b[39mconcatenate([init_recording, recordings[:nsteps_to_return]], axis\u001b[39m=\u001b[39m\u001b[39m0\u001b[39m)\u001b[39m.\u001b[39mT\n",
      "File \u001b[0;32m~/Documents/projects/neurax/neurax/neurax/utils/jax_utils.py:58\u001b[0m, in \u001b[0;36mnested_checkpoint_scan\u001b[0;34m(f, init, xs, length, nested_lengths, scan_fn, checkpoint_fn)\u001b[0m\n\u001b[1;32m     55\u001b[0m     \u001b[39mreturn\u001b[39;00m x\u001b[39m.\u001b[39mreshape(new_shape)\n\u001b[1;32m     57\u001b[0m sub_xs \u001b[39m=\u001b[39m jax\u001b[39m.\u001b[39mtree_map(nested_reshape, xs)\n\u001b[0;32m---> 58\u001b[0m \u001b[39mreturn\u001b[39;00m _inner_nested_scan(f, init, sub_xs, nested_lengths, scan_fn, checkpoint_fn)\n",
      "File \u001b[0;32m~/Documents/projects/neurax/neurax/neurax/utils/jax_utils.py:64\u001b[0m, in \u001b[0;36m_inner_nested_scan\u001b[0;34m(f, init, xs, lengths, scan_fn, checkpoint_fn)\u001b[0m\n\u001b[1;32m     62\u001b[0m \u001b[39m\u001b[39m\u001b[39m\"\"\"Recursively applied scan function.\"\"\"\u001b[39;00m\n\u001b[1;32m     63\u001b[0m \u001b[39mif\u001b[39;00m \u001b[39mlen\u001b[39m(lengths) \u001b[39m==\u001b[39m \u001b[39m1\u001b[39m:\n\u001b[0;32m---> 64\u001b[0m     \u001b[39mreturn\u001b[39;00m scan_fn(f, init, xs, lengths[\u001b[39m0\u001b[39;49m])\n\u001b[1;32m     66\u001b[0m \u001b[39m@checkpoint_fn\u001b[39m\n\u001b[1;32m     67\u001b[0m \u001b[39mdef\u001b[39;00m \u001b[39msub_scans\u001b[39m(carry, xs):\n\u001b[1;32m     68\u001b[0m     \u001b[39mreturn\u001b[39;00m _inner_nested_scan(f, carry, xs, lengths[\u001b[39m1\u001b[39m:], scan_fn, checkpoint_fn)\n",
      "    \u001b[0;31m[... skipping hidden 9 frame]\u001b[0m\n",
      "File \u001b[0;32m~/Documents/projects/neurax/neurax/neurax/integrate.py:66\u001b[0m, in \u001b[0;36mintegrate.<locals>._body_fun\u001b[0;34m(state, i_stim)\u001b[0m\n\u001b[1;32m     65\u001b[0m \u001b[39mdef\u001b[39;00m \u001b[39m_body_fun\u001b[39m(state, i_stim):\n\u001b[0;32m---> 66\u001b[0m     state \u001b[39m=\u001b[39m module\u001b[39m.\u001b[39;49mstep(\n\u001b[1;32m     67\u001b[0m         state,\n\u001b[1;32m     68\u001b[0m         delta_t,\n\u001b[1;32m     69\u001b[0m         i_inds,\n\u001b[1;32m     70\u001b[0m         i_stim,\n\u001b[1;32m     71\u001b[0m         params\u001b[39m=\u001b[39;49mall_params,\n\u001b[1;32m     72\u001b[0m         solver\u001b[39m=\u001b[39;49msolver,\n\u001b[1;32m     73\u001b[0m         tridiag_solver\u001b[39m=\u001b[39;49mtridiag_solver,\n\u001b[1;32m     74\u001b[0m     )\n\u001b[1;32m     75\u001b[0m     \u001b[39mreturn\u001b[39;00m state, state[\u001b[39m\"\u001b[39m\u001b[39mvoltages\u001b[39m\u001b[39m\"\u001b[39m][rec_inds]\n",
      "File \u001b[0;32m~/Documents/projects/neurax/neurax/neurax/modules/base.py:426\u001b[0m, in \u001b[0;36mModule.step\u001b[0;34m(self, u, delta_t, i_inds, i_current, params, solver, tridiag_solver)\u001b[0m\n\u001b[1;32m    423\u001b[0m voltages \u001b[39m=\u001b[39m u[\u001b[39m\"\u001b[39m\u001b[39mvoltages\u001b[39m\u001b[39m\"\u001b[39m]\n\u001b[1;32m    425\u001b[0m \u001b[39m# Parameters have to go in here.\u001b[39;00m\n\u001b[0;32m--> 426\u001b[0m new_channel_states, (v_terms, const_terms) \u001b[39m=\u001b[39m \u001b[39mself\u001b[39;49m\u001b[39m.\u001b[39;49m_step_channels(\n\u001b[1;32m    427\u001b[0m     u, delta_t, \u001b[39mself\u001b[39;49m\u001b[39m.\u001b[39;49mchannels, \u001b[39mself\u001b[39;49m\u001b[39m.\u001b[39;49mchannel_nodes, params\n\u001b[1;32m    428\u001b[0m )\n\u001b[1;32m    430\u001b[0m \u001b[39m# External input.\u001b[39;00m\n\u001b[1;32m    431\u001b[0m i_ext \u001b[39m=\u001b[39m get_external_input(\n\u001b[1;32m    432\u001b[0m     voltages, i_inds, i_current, params[\u001b[39m\"\u001b[39m\u001b[39mradius\u001b[39m\u001b[39m\"\u001b[39m], params[\u001b[39m\"\u001b[39m\u001b[39mlength\u001b[39m\u001b[39m\"\u001b[39m]\n\u001b[1;32m    433\u001b[0m )\n",
      "File \u001b[0;32m~/Documents/projects/neurax/neurax/neurax/modules/base.py:505\u001b[0m, in \u001b[0;36mModule._step_channels\u001b[0;34m(states, delta_t, channels, channel_nodes, params)\u001b[0m\n\u001b[1;32m    503\u001b[0m name \u001b[39m=\u001b[39m \u001b[39mtype\u001b[39m(channel)\u001b[39m.\u001b[39m\u001b[39m__name__\u001b[39m\n\u001b[1;32m    504\u001b[0m indices \u001b[39m=\u001b[39m channel_nodes[name][\u001b[39m\"\u001b[39m\u001b[39mcomp_index\u001b[39m\u001b[39m\"\u001b[39m]\u001b[39m.\u001b[39mto_numpy()\n\u001b[0;32m--> 505\u001b[0m states, membrane_current_terms \u001b[39m=\u001b[39m channel\u001b[39m.\u001b[39;49mstep(\n\u001b[1;32m    506\u001b[0m     states, delta_t, voltages[indices], params\n\u001b[1;32m    507\u001b[0m )\n\u001b[1;32m    508\u001b[0m voltage_terms \u001b[39m=\u001b[39m voltage_terms\u001b[39m.\u001b[39mat[indices]\u001b[39m.\u001b[39madd(membrane_current_terms[\u001b[39m0\u001b[39m])\n\u001b[1;32m    509\u001b[0m constant_terms \u001b[39m=\u001b[39m constant_terms\u001b[39m.\u001b[39mat[indices]\u001b[39m.\u001b[39madd(membrane_current_terms[\u001b[39m1\u001b[39m])\n",
      "Cell \u001b[0;32mIn[239], line 13\u001b[0m, in \u001b[0;36mNaChannelPospi.step\u001b[0;34m(u, dt, voltages, params)\u001b[0m\n\u001b[1;32m     11\u001b[0m \u001b[39m\u001b[39m\u001b[39m\"\"\"Return updated channel states and current.\"\"\"\u001b[39;00m\n\u001b[1;32m     12\u001b[0m ms, hs \u001b[39m=\u001b[39m u[\u001b[39m\"\u001b[39m\u001b[39mm\u001b[39m\u001b[39m\"\u001b[39m], u[\u001b[39m\"\u001b[39m\u001b[39mh\u001b[39m\u001b[39m\"\u001b[39m]\n\u001b[0;32m---> 13\u001b[0m new_m \u001b[39m=\u001b[39m solve_gate_exponential(ms, dt, \u001b[39m*\u001b[39;49m_m_gate(voltages, params[\u001b[39m\"\u001b[39;49m\u001b[39mvt\u001b[39;49m\u001b[39m\"\u001b[39;49m]))\n\u001b[1;32m     14\u001b[0m new_h \u001b[39m=\u001b[39m solve_gate_exponential(hs, dt, \u001b[39m*\u001b[39m_h_gate(voltages, params[\u001b[39m\"\u001b[39m\u001b[39mvt\u001b[39m\u001b[39m\"\u001b[39m]))\n\u001b[1;32m     16\u001b[0m \u001b[39m# Multiply with 1000 to convert Siemens to milli Siemens.\u001b[39;00m\n",
      "File \u001b[0;32m~/Documents/projects/neurax/neurax/neurax/solver_gate.py:26\u001b[0m, in \u001b[0;36msolve_gate_exponential\u001b[0;34m(x, dt, alpha, beta)\u001b[0m\n\u001b[1;32m     23\u001b[0m xinf \u001b[39m=\u001b[39m \u001b[39m-\u001b[39malpha \u001b[39m/\u001b[39m slope\n\u001b[1;32m     25\u001b[0m exp_term \u001b[39m=\u001b[39m jnp\u001b[39m.\u001b[39mexp(slope \u001b[39m*\u001b[39m dt)\n\u001b[0;32m---> 26\u001b[0m \u001b[39mreturn\u001b[39;00m x \u001b[39m*\u001b[39;49m exp_term \u001b[39m+\u001b[39m xinf \u001b[39m*\u001b[39m (\u001b[39m1.0\u001b[39m \u001b[39m-\u001b[39m exp_term)\n",
      "File \u001b[0;32m~/anaconda3/envs/neurax_env/lib/python3.11/site-packages/jax/_src/numpy/array_methods.py:791\u001b[0m, in \u001b[0;36m_forward_operator_to_aval.<locals>.op\u001b[0;34m(self, *args)\u001b[0m\n\u001b[1;32m    790\u001b[0m \u001b[39mdef\u001b[39;00m \u001b[39mop\u001b[39m(\u001b[39mself\u001b[39m, \u001b[39m*\u001b[39margs):\n\u001b[0;32m--> 791\u001b[0m   \u001b[39mreturn\u001b[39;00m \u001b[39mgetattr\u001b[39;49m(\u001b[39mself\u001b[39;49m\u001b[39m.\u001b[39;49maval, \u001b[39mf\u001b[39;49m\u001b[39m\"\u001b[39;49m\u001b[39m_\u001b[39;49m\u001b[39m{\u001b[39;49;00mname\u001b[39m}\u001b[39;49;00m\u001b[39m\"\u001b[39;49m)(\u001b[39mself\u001b[39;49m, \u001b[39m*\u001b[39;49margs)\n",
      "File \u001b[0;32m~/anaconda3/envs/neurax_env/lib/python3.11/site-packages/jax/_src/numpy/array_methods.py:258\u001b[0m, in \u001b[0;36m_defer_to_unrecognized_arg.<locals>.deferring_binary_op\u001b[0;34m(self, other)\u001b[0m\n\u001b[1;32m    256\u001b[0m args \u001b[39m=\u001b[39m (other, \u001b[39mself\u001b[39m) \u001b[39mif\u001b[39;00m swap \u001b[39melse\u001b[39;00m (\u001b[39mself\u001b[39m, other)\n\u001b[1;32m    257\u001b[0m \u001b[39mif\u001b[39;00m \u001b[39misinstance\u001b[39m(other, _accepted_binop_types):\n\u001b[0;32m--> 258\u001b[0m   \u001b[39mreturn\u001b[39;00m binary_op(\u001b[39m*\u001b[39;49margs)\n\u001b[1;32m    259\u001b[0m \u001b[39mif\u001b[39;00m \u001b[39misinstance\u001b[39m(other, _rejected_binop_types):\n\u001b[1;32m    260\u001b[0m   \u001b[39mraise\u001b[39;00m \u001b[39mTypeError\u001b[39;00m(\u001b[39mf\u001b[39m\u001b[39m\"\u001b[39m\u001b[39munsupported operand type(s) for \u001b[39m\u001b[39m{\u001b[39;00mopchar\u001b[39m}\u001b[39;00m\u001b[39m: \u001b[39m\u001b[39m\"\u001b[39m\n\u001b[1;32m    261\u001b[0m                   \u001b[39mf\u001b[39m\u001b[39m\"\u001b[39m\u001b[39m{\u001b[39;00m\u001b[39mtype\u001b[39m(args[\u001b[39m0\u001b[39m])\u001b[39m.\u001b[39m\u001b[39m__name__\u001b[39m\u001b[39m!r}\u001b[39;00m\u001b[39m and \u001b[39m\u001b[39m{\u001b[39;00m\u001b[39mtype\u001b[39m(args[\u001b[39m1\u001b[39m])\u001b[39m.\u001b[39m\u001b[39m__name__\u001b[39m\u001b[39m!r}\u001b[39;00m\u001b[39m\"\u001b[39m)\n",
      "    \u001b[0;31m[... skipping hidden 12 frame]\u001b[0m\n",
      "File \u001b[0;32m~/anaconda3/envs/neurax_env/lib/python3.11/site-packages/jax/_src/numpy/ufuncs.py:97\u001b[0m, in \u001b[0;36m_maybe_bool_binop.<locals>.fn\u001b[0;34m(x1, x2)\u001b[0m\n\u001b[1;32m     95\u001b[0m \u001b[39mdef\u001b[39;00m \u001b[39mfn\u001b[39m(x1, x2, \u001b[39m/\u001b[39m):\n\u001b[1;32m     96\u001b[0m   x1, x2 \u001b[39m=\u001b[39m promote_args(numpy_fn\u001b[39m.\u001b[39m\u001b[39m__name__\u001b[39m, x1, x2)\n\u001b[0;32m---> 97\u001b[0m   \u001b[39mreturn\u001b[39;00m lax_fn(x1, x2) \u001b[39mif\u001b[39;00m x1\u001b[39m.\u001b[39mdtype \u001b[39m!=\u001b[39m np\u001b[39m.\u001b[39mbool_ \u001b[39melse\u001b[39;00m bool_lax_fn(x1, x2)\n",
      "    \u001b[0;31m[... skipping hidden 7 frame]\u001b[0m\n",
      "File \u001b[0;32m~/anaconda3/envs/neurax_env/lib/python3.11/site-packages/jax/_src/lax/lax.py:1579\u001b[0m, in \u001b[0;36mbroadcasting_shape_rule\u001b[0;34m(name, *avals)\u001b[0m\n\u001b[1;32m   1577\u001b[0m       result_shape\u001b[39m.\u001b[39mappend(non_1s[\u001b[39m0\u001b[39m])\n\u001b[1;32m   1578\u001b[0m     \u001b[39melse\u001b[39;00m:\n\u001b[0;32m-> 1579\u001b[0m       \u001b[39mraise\u001b[39;00m \u001b[39mTypeError\u001b[39;00m(\u001b[39mf\u001b[39m\u001b[39m'\u001b[39m\u001b[39m{\u001b[39;00mname\u001b[39m}\u001b[39;00m\u001b[39m got incompatible shapes for broadcasting: \u001b[39m\u001b[39m'\u001b[39m\n\u001b[1;32m   1580\u001b[0m                       \u001b[39mf\u001b[39m\u001b[39m'\u001b[39m\u001b[39m{\u001b[39;00m\u001b[39m\"\u001b[39m\u001b[39m, \u001b[39m\u001b[39m\"\u001b[39m\u001b[39m.\u001b[39mjoin(\u001b[39mmap\u001b[39m(\u001b[39mstr\u001b[39m,\u001b[39m \u001b[39m\u001b[39mmap\u001b[39m(\u001b[39mtuple\u001b[39m,\u001b[39m \u001b[39mshapes)))\u001b[39m}\u001b[39;00m\u001b[39m.\u001b[39m\u001b[39m'\u001b[39m)\n\u001b[1;32m   1582\u001b[0m \u001b[39mreturn\u001b[39;00m \u001b[39mtuple\u001b[39m(result_shape)\n",
      "\u001b[0;31mTypeError\u001b[0m: mul got incompatible shapes for broadcasting: (5,), (10,)."
     ]
    }
   ],
   "source": [
    "stims = [nx.Stimulus(0, 0, 0.0, nx.step_current(1.0, 20.0, 0.03, time_vec))]\n",
    "recs = [nx.Recording(0, 0, 0.0)]\n",
    "\n",
    "s = nx.integrate(cell, stims, recs)"
   ]
  },
  {
   "cell_type": "code",
   "execution_count": 260,
   "id": "987aa427",
   "metadata": {},
   "outputs": [
    {
     "data": {
      "image/png": "[encoded data removed]",
      "text/plain": [
       "<Figure size 400x200 with 1 Axes>"
      ]
     },
     "metadata": {},
     "output_type": "display_data"
    }
   ],
   "source": [
    "fig, ax = plt.subplots(1, 1, figsize=(4, 2))\n",
    "_ = ax.plot(time_vec, s.T[:-1])\n",
    "_ = ax.set_ylim([-80, 60])\n",
    "_ = ax.set_xlabel(\"Time (ms)\")\n",
    "_ = ax.set_ylabel(\"Voltage (mV)\")"
   ]
  }
 ],
 "metadata": {
  "kernelspec": {
   "display_name": "neurax_env",
   "language": "python",
   "name": "python3"
  },
  "language_info": {
   "codemirror_mode": {
    "name": "ipython",
    "version": 3
   },
   "file_extension": ".py",
   "mimetype": "text/x-python",
   "name": "python",
   "nbconvert_exporter": "python",
   "pygments_lexer": "ipython3",
   "version": "3.11.4"
  }
 },
 "nbformat": 4,
 "nbformat_minor": 5
}
