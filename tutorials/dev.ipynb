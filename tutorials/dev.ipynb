{
 "cells": [
  {
   "cell_type": "code",
   "execution_count": 1,
   "metadata": {},
   "outputs": [],
   "source": [
    "%load_ext autoreload\n",
    "%autoreload 2"
   ]
  },
  {
   "cell_type": "code",
   "execution_count": 2,
   "metadata": {},
   "outputs": [],
   "source": [
    "# I have experienced stability issues with float32.\n",
    "from jax import config\n",
    "config.update(\"jax_enable_x64\", True)\n",
    "config.update(\"jax_platform_name\", \"cpu\")\n",
    "\n",
    "import os\n",
    "os.environ[\"XLA_PYTHON_CLIENT_MEM_FRACTION\"]=\".8\""
   ]
  },
  {
   "cell_type": "code",
   "execution_count": 4,
   "metadata": {},
   "outputs": [],
   "source": [
    "import matplotlib.pyplot as plt\n",
    "import numpy as np\n",
    "import jax.numpy as jnp\n",
    "from jax import jit, vmap\n",
    "\n",
    "import jaxley as jx\n",
    "from jaxley.channels import HH\n",
    "# from jaxley.synapses import GlutamateSynapse\n",
    "from jaxley_mech.channels.fm97 import Na, K, KA, KCa, Ca, Leak\n"
   ]
  },
  {
   "cell_type": "code",
   "execution_count": 5,
   "metadata": {},
   "outputs": [],
   "source": [
    "dt = 0.025\n",
    "t_max = 100.0\n",
    "time_vec = np.arange(0, t_max+2*dt, dt)\n",
    "\n",
    "i_delay = 10.0\n",
    "i_dur = 80.0\n",
    "i_amp = 5.0  # nA\n",
    "current = jx.step_current(i_delay, i_dur, i_amp, dt, t_max)\n",
    "\n",
    "cell_id = \"20161028_1\"\n",
    "np.random.seed(0)"
   ]
  },
  {
   "cell_type": "code",
   "execution_count": 125,
   "metadata": {},
   "outputs": [],
   "source": [
    "from jaxley.utils.cell_utils import index_of_loc, loc_of_index"
   ]
  },
  {
   "cell_type": "code",
   "execution_count": 112,
   "metadata": {},
   "outputs": [],
   "source": [
    "comp = jx.Compartment()\n",
    "branch = jx.Branch([comp for _ in range(4)])"
   ]
  },
  {
   "cell_type": "code",
   "execution_count": 130,
   "metadata": {},
   "outputs": [
    {
     "data": {
      "text/plain": [
       "0.875"
      ]
     },
     "execution_count": 130,
     "metadata": {},
     "output_type": "execute_result"
    }
   ],
   "source": [
    "loc_of_index(0, 4)"
   ]
  },
  {
   "cell_type": "code",
   "execution_count": 133,
   "metadata": {},
   "outputs": [],
   "source": [
    "assert np.all(branch.loc(index_of_loc(0, 0.4, 4)).show() == branch.loc(0.4).show())\n"
   ]
  },
  {
   "cell_type": "code",
   "execution_count": null,
   "metadata": {},
   "outputs": [],
   "source": [
    "comp = jx.Compartment()\n",
    "branch = jx.Branch([comp for _ in range(4)])\n",
    "cell = jx.Cell([branch for _ in range(3)], parents=jnp.asarray([-1, 0, 0]))\n",
    "network = jx.Network([cell for _ in range(5)])\n",
    "network.compute_xyz()"
   ]
  },
  {
   "cell_type": "code",
   "execution_count": null,
   "metadata": {},
   "outputs": [],
   "source": [
    "cell[0].stimulate(current)\n",
    "cell[0].stimulate(jnp.stack([current]*1))\n",
    "cell[0].stimulate(jnp.stack([current]*4))\n",
    "cell[0].stimulate(jnp.stack([current]*3))"
   ]
  },
  {
   "cell_type": "code",
   "execution_count": null,
   "metadata": {},
   "outputs": [],
   "source": [
    "cell.currents, cell.current_inds"
   ]
  },
  {
   "cell_type": "code",
   "execution_count": null,
   "metadata": {},
   "outputs": [],
   "source": [
    "comp.compute_xyz()\n",
    "comp._update_nodes_with_xyz()\n",
    "comp.nodes\n",
    "\n",
    "\n",
    "branch.compute_xyz()\n",
    "branch._update_nodes_with_xyz()\n",
    "branch.nodes\n",
    "\n",
    "cell.compute_xyz()\n",
    "cell._update_nodes_with_xyz()\n",
    "cell.nodes\n",
    "\n",
    "cell.vis()\n",
    "\n",
    "# network.compute_xyz()\n",
    "# network._update_nodes_with_xyz()\n",
    "# network.nodes"
   ]
  },
  {
   "cell_type": "code",
   "execution_count": null,
   "metadata": {},
   "outputs": [],
   "source": [
    "cell.nodes[[\"comp_index\", \"branch_index\", \"x\", \"y\"]]"
   ]
  },
  {
   "cell_type": "code",
   "execution_count": null,
   "metadata": {},
   "outputs": [],
   "source": [
    "cell = jx.read_swc(f\"../../jaxley_experiments/nex/rgc/morphologies/{cell_id}.swc\", nseg=4, max_branch_len=300.0, min_radius=5.0)\n",
    "cell.compute_xyz()\n",
    "cell._update_nodes_with_xyz()\n",
    "cell.nodes"
   ]
  },
  {
   "cell_type": "code",
   "execution_count": null,
   "metadata": {},
   "outputs": [],
   "source": [
    "# comp = jx.Compartment()\n",
    "# comp.compute_xyz()\n",
    "# comp.update_nodes_with_xyz()\n",
    "\n",
    "# print(comp.nodes[[\"x\", \"y\", \"z\"]])\n",
    "# print(comp.xyzr)\n",
    "\n",
    "# cell = jx.read_swc(f\"../../jaxley_experiments/nex/rgc/morphologies/{cell_id}.swc\", nseg=4, max_branch_len=300.0, min_radius=5.0)"
   ]
  },
  {
   "cell_type": "markdown",
   "metadata": {},
   "source": [
    "# misc ideas and Qs:\n",
    "- merge `syn_edges` and `branch_edges` -> edges and replace branch_edge by \"type=branch\" label, why does base have `edges` and comp has `syn_edges` and `branch_edges`?\n",
    "- connect should only have to update list of edges!\n",
    "- what is the reasoning of having comp be a float. I find this counterintuitive since it's discrete. If only important for plotting, then we should only have this in plotting too."
   ]
  },
  {
   "cell_type": "code",
   "execution_count": null,
   "metadata": {},
   "outputs": [],
   "source": [
    "comp = jx.Compartment()\n",
    "branch = jx.Branch([comp for _ in range(4)])\n",
    "cell = jx.Cell([branch for _ in range(5)], parents=jnp.asarray([-1, 0, 0, 1, 1]))\n",
    "network = jx.Network([cell for _ in range(5)])\n",
    "\n",
    "network.cell(0).connect(network.cell(1), GlutamateSynapse)\n",
    "network.cell(1).connect(network.cell(2), GlutamateSynapse)\n"
   ]
  },
  {
   "cell_type": "code",
   "execution_count": null,
   "metadata": {},
   "outputs": [],
   "source": [
    "type(GlutamateSynapse())"
   ]
  },
  {
   "cell_type": "code",
   "execution_count": null,
   "metadata": {},
   "outputs": [],
   "source": [
    "network.cell(0)"
   ]
  },
  {
   "cell_type": "code",
   "execution_count": null,
   "metadata": {},
   "outputs": [],
   "source": [
    "network.edges"
   ]
  },
  {
   "cell_type": "code",
   "execution_count": null,
   "metadata": {},
   "outputs": [],
   "source": [
    "# \"20170610_1\" is a t-off-mini\n",
    "# \"20161028_1\" is a t-off-alpha\n",
    "cell_id = \"20161028_1\"\n",
    "\n",
    "if cell_id == \"20161028_1\":\n",
    "    soma_branch = 1\n",
    "    dendrite_branch = 50\n",
    "elif cell_id == \"20170610_1\":\n",
    "    soma_branch = 0\n",
    "    dendrite_branch = 70\n",
    "else:\n",
    "    raise ValueError\n",
    "\n",
    "\n",
    "cell = jx.read_swc(f\"../../jaxley_experiments/nex/rgc/morphologies/{cell_id}.swc\", nseg=4, max_branch_len=300.0, min_radius=5.0)\n",
    "\n",
    "cell.insert(HH())\n",
    "cell.insert(KA())\n",
    "cell.insert(Ca())\n",
    "cell.insert(KCa())\n",
    "\n",
    "cell.set(\"v\", -65.0)\n",
    "cell.init_states()\n",
    "\n",
    "cell.delete_trainables()\n",
    "\n",
    "cell.delete_stimuli()\n",
    "cell.delete_recordings()\n",
    "\n",
    "cell.branch(soma_branch).loc(0.4).stimulate(current)\n",
    "cell.branch(soma_branch).loc(0.4).record()\n",
    "cell.branch(dendrite_branch).loc(1.0).record()"
   ]
  },
  {
   "cell_type": "code",
   "execution_count": null,
   "metadata": {},
   "outputs": [],
   "source": [
    "dims=[0,1]\n",
    "soma = cell.xyzr[1][0]\n",
    "fig, ax = plt.subplots(1, 1, figsize=(4, 4))\n",
    "dmin, dmax = 0, 182\n",
    "for i in np.unique(cell.show()[\"branch_index\"]):\n",
    "    xyzr = cell.xyzr[i]\n",
    "    d = np.sqrt(np.sum((xyzr[:, dims] - soma[dims])**2, axis=1)).mean()\n",
    "    c = np.array(plt.cm.viridis((d-dmin)/(dmax-dmin)))\n",
    "    cell.branch(i).vis(col=c, ax=ax, dims=dims)\n",
    "plt.show()"
   ]
  },
  {
   "cell_type": "code",
   "execution_count": null,
   "metadata": {},
   "outputs": [],
   "source": [
    "cell.branch(dendrite_branch).show()"
   ]
  }
 ],
 "metadata": {
  "kernelspec": {
   "display_name": "jaxley",
   "language": "python",
   "name": "python3"
  },
  "language_info": {
   "codemirror_mode": {
    "name": "ipython",
    "version": 3
   },
   "file_extension": ".py",
   "mimetype": "text/x-python",
   "name": "python",
   "nbconvert_exporter": "python",
   "pygments_lexer": "ipython3",
   "version": "3.12.1"
  }
 },
 "nbformat": 4,
 "nbformat_minor": 2
}
