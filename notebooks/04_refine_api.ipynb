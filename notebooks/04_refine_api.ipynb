{
 "cells": [
  {
   "cell_type": "code",
   "execution_count": 1,
   "id": "e32cf831",
   "metadata": {},
   "outputs": [],
   "source": [
    "%load_ext autoreload\n",
    "%autoreload 2"
   ]
  },
  {
   "cell_type": "code",
   "execution_count": 2,
   "id": "3f53c5d2",
   "metadata": {},
   "outputs": [
    {
     "name": "stderr",
     "output_type": "stream",
     "text": [
      "Warning: no DISPLAY environment variable.\n",
      "--No graphics will be displayed.\n"
     ]
    }
   ],
   "source": [
    "import os\n",
    "os.environ[\"XLA_PYTHON_CLIENT_MEM_FRACTION\"]=\".4\"\n",
    "\n",
    "import time\n",
    "import matplotlib.pyplot as plt\n",
    "import matplotlib as mpl\n",
    "import numpy as np\n",
    "from copy import deepcopy\n",
    "\n",
    "import jax\n",
    "import jax.numpy as jnp\n",
    "from jax import jit, lax, grad, value_and_grad, vmap\n",
    "import optax\n",
    "import distrax\n",
    "\n",
    "from neuron import h\n",
    "_ = h.load_file(\"stdlib.hoc\")\n",
    "\n",
    "from neurax.integrate import solve\n",
    "from neurax.cell import Cell, _compute_num_kids, _compute_index_of_kid, compute_levels\n",
    "from neurax.stimulus import Stimulus, step_current\n",
    "from neurax.recording import Recording\n",
    "from neurax.connection import Connection, Connectivity\n",
    "from neurax.utils.plot_utils import plot_morph\n",
    "from neurax.mechanisms.hh_neuron import hh_neuron_gate\n",
    "from neurax.mechanisms.glutamate_synapse import glutamate"
   ]
  },
  {
   "cell_type": "code",
   "execution_count": 3,
   "id": "6994fabc",
   "metadata": {},
   "outputs": [],
   "source": [
    "device_str = \"gpu\"\n",
    "jax.config.update('jax_platform_name', device_str)\n",
    "\n",
    "cpus = jax.devices(\"cpu\")\n",
    "gpus = jax.devices(\"gpu\")\n",
    "\n",
    "device = cpus[0] if device_str == \"cpu\" else gpus[0]"
   ]
  },
  {
   "cell_type": "markdown",
   "id": "48d76013",
   "metadata": {},
   "source": [
    "# Setup\n",
    "\n",
    "### Define model"
   ]
  },
  {
   "cell_type": "code",
   "execution_count": 4,
   "id": "8fee1bf3",
   "metadata": {},
   "outputs": [],
   "source": [
    "n_params_per_cell = 1"
   ]
  },
  {
   "cell_type": "code",
   "execution_count": 5,
   "id": "db64e2fc",
   "metadata": {},
   "outputs": [],
   "source": [
    "num_cells = 16\n",
    "nseg_per_branch = 4\n",
    "num_branches = 15\n",
    "ncomp = num_branches * nseg_per_branch\n",
    "parents = jnp.asarray([-1, 0, 0, 1, 1, 2, 2, 3, 3, 4, 4, 5, 5, 6, 6])\n",
    "\n",
    "assert len(parents) == num_branches\n",
    "\n",
    "# Initialize voltage\n",
    "init_v = jnp.asarray([[-62.0] * num_branches*nseg_per_branch] * num_cells)\n",
    "\n",
    "# Initialize states\n",
    "init_m = jnp.asarray([[0.074901] * num_branches*nseg_per_branch] * num_cells)\n",
    "init_h = jnp.asarray([[0.4889] * num_branches*nseg_per_branch] * num_cells)\n",
    "init_n = jnp.asarray([[0.3644787] * num_branches*nseg_per_branch] * num_cells)\n",
    "hh_states = jnp.stack([init_m, init_h, init_n])\n",
    "\n",
    "length = 100.0  # um (length of a single branch)\n",
    "radius = 10.0  # um\n",
    "r_a = 10_000  # ohm cm \n",
    "i_delay = 5.0  # ms\n",
    "i_amp = 1.0  # nA\n",
    "i_dur = 2.0  # ms\n",
    "dt = 0.025  # ms\n",
    "t_max = 15.0  # ms"
   ]
  },
  {
   "cell_type": "markdown",
   "id": "1bb22c9d",
   "metadata": {},
   "source": [
    "### Set up model"
   ]
  },
  {
   "cell_type": "code",
   "execution_count": 6,
   "id": "a6abc6e0",
   "metadata": {},
   "outputs": [],
   "source": [
    "time_vec = jnp.arange(0, t_max+dt, dt)"
   ]
  },
  {
   "cell_type": "code",
   "execution_count": null,
   "id": "a3344d15",
   "metadata": {},
   "outputs": [],
   "source": [
    "cells = [Cell(num_branches, parents, nseg_per_branch, length, radius, r_a)] * num_cells\n",
    "recs = [\n",
    "    Recording(15, 0, 0.0),\n",
    "]\n",
    "conns = []\n",
    "for pre in jnp.arange(5):\n",
    "    for post in jnp.arange(5, 15):\n",
    "        conn = Connection(pre, 0, 0.0, post, 7+pre, 1.0)\n",
    "        conns.append(conn)\n",
    "for pre in jnp.arange(5, 10):\n",
    "    for post in jnp.arange(15, 16):\n",
    "        conn = Connection(pre, 0, 0.0, post, 2+pre, 1.0)\n",
    "        conns.append(conn)\n",
    "for pre in jnp.arange(10, 15):\n",
    "    for post in jnp.arange(15, 16):\n",
    "        conn = Connection(pre, 0, 0.0, post, -3+pre, 0.5)\n",
    "        conns.append(conn)\n",
    "        \n",
    "connectivities = [Connectivity(conns, nseg_per_branch),]\n",
    "\n",
    "# Prepare stimuli.\n",
    "stims = [\n",
    "    Stimulus(\n",
    "        cell_ind=i, \n",
    "        branch_ind=0, \n",
    "        loc=0.0, \n",
    "        current=step_current(i_delay, i_dur, i_amp, time_vec)\n",
    "    ) for i in range(5)\n",
    "]"
   ]
  },
  {
   "cell_type": "markdown",
   "id": "9290ff4a",
   "metadata": {},
   "source": [
    "### Define parameters"
   ]
  },
  {
   "cell_type": "code",
   "execution_count": 8,
   "id": "99d09f5a",
   "metadata": {},
   "outputs": [],
   "source": [
    "g_na = jnp.asarray([[0.12] * n_params_per_cell] * num_cells)\n",
    "g_kd = jnp.asarray([[0.036] * n_params_per_cell] * num_cells)\n",
    "g_leak = jnp.asarray([[0.0003] * n_params_per_cell] * num_cells)\n",
    "\n",
    "theta_gt = jnp.stack([g_na, g_kd, g_leak])\n",
    "\n",
    "synapse_params = jnp.asarray([1.0] * len(conns))\n",
    "hh_params = jnp.tile(theta_gt, (1, 1, ncomp))"
   ]
  },
  {
   "cell_type": "markdown",
   "id": "82405c38",
   "metadata": {},
   "source": [
    "### ODE"
   ]
  },
  {
   "cell_type": "code",
   "execution_count": 14,
   "id": "c8c3a18b",
   "metadata": {},
   "outputs": [],
   "source": [
    "mem_channels = [hh_neuron_gate,]\n",
    "mem_states = [hh_states,]\n",
    "mem_params = [hh_params,]"
   ]
  },
  {
   "cell_type": "code",
   "execution_count": 15,
   "id": "a1012c17",
   "metadata": {},
   "outputs": [],
   "source": [
    "syn_channels = [glutamate,]\n",
    "syn_states = [jnp.zeros((len(conns))),]\n",
    "syn_params = [synapse_params,]"
   ]
  },
  {
   "cell_type": "code",
   "execution_count": 16,
   "id": "eccfbca1",
   "metadata": {},
   "outputs": [],
   "source": [
    "def ode(params):\n",
    "    s = solve(\n",
    "        cells,\n",
    "        connectivities,\n",
    "        init_v,\n",
    "        mem_states=mem_states,\n",
    "        mem_params=mem_params,\n",
    "        mem_channels=mem_channels,\n",
    "        syn_states=syn_states,\n",
    "        syn_params=syn_params,\n",
    "        syn_channels=syn_channels,\n",
    "        stimuli=stims,\n",
    "        recordings=recs,\n",
    "        t_max=t_max,\n",
    "        dt=dt,\n",
    "        solver=\"stone\",\n",
    "        checkpoint_inds=[]\n",
    "    )\n",
    "    return s"
   ]
  },
  {
   "cell_type": "code",
   "execution_count": 18,
   "id": "90a0ace7",
   "metadata": {},
   "outputs": [],
   "source": [
    "jitted_ode = jit(ode)"
   ]
  },
  {
   "cell_type": "code",
   "execution_count": 21,
   "id": "dc5e023e",
   "metadata": {},
   "outputs": [
    {
     "name": "stdout",
     "output_type": "stream",
     "text": [
      "Time:   0.10208725929260254\n"
     ]
    }
   ],
   "source": [
    "start_time = time.time()\n",
    "s = jitted_ode(mem_params)\n",
    "print(\"Time:  \", time.time() - start_time)"
   ]
  },
  {
   "cell_type": "code",
   "execution_count": 22,
   "id": "70086017",
   "metadata": {},
   "outputs": [
    {
     "data": {
      "image/png": "[encoded data removed]",
      "text/plain": [
       "<Figure size 200x200 with 1 Axes>"
      ]
     },
     "metadata": {},
     "output_type": "display_data"
    }
   ],
   "source": [
    "with mpl.rc_context(fname=\".matplotlibrc\"):\n",
    "    fig, ax = plt.subplots(1, 1, figsize=(2, 2))\n",
    "    _ = ax.plot(time_vec, s[0])\n",
    "    _ = ax.set_ylim([-80, 50])\n",
    "    ax.set_xlabel(\"\")\n",
    "    ax.set_xticks([])\n",
    "    ax.set_xticks([0, max(time_vec)])\n",
    "    ax.set_xlim([0, max(time_vec)])\n",
    "    ax.set_xlabel(\"Time (ms)\")\n",
    "    ax.set_ylabel(\"Voltage (mV)\")\n",
    "    plt.subplots_adjust(hspace=0.4)\n",
    "#     plt.savefig(\"../../results/response.png\", dpi=200, bbox_inches=\"tight\")\n",
    "    plt.show()"
   ]
  },
  {
   "cell_type": "code",
   "execution_count": null,
   "id": "6c9eafbc",
   "metadata": {},
   "outputs": [],
   "source": []
  }
 ],
 "metadata": {
  "kernelspec": {
   "display_name": "Python 3 (ipykernel)",
   "language": "python",
   "name": "python3"
  },
  "language_info": {
   "codemirror_mode": {
    "name": "ipython",
    "version": 3
   },
   "file_extension": ".py",
   "mimetype": "text/x-python",
   "name": "python",
   "nbconvert_exporter": "python",
   "pygments_lexer": "ipython3",
   "version": "3.10.9"
  }
 },
 "nbformat": 4,
 "nbformat_minor": 5
}
