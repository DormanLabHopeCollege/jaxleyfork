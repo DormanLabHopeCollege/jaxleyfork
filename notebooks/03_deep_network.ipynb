{
 "cells": [
  {
   "cell_type": "code",
   "execution_count": 1,
   "id": "6ca527a6",
   "metadata": {},
   "outputs": [],
   "source": [
    "from jax.config import config\n",
    "config.update(\"jax_enable_x64\", True)"
   ]
  },
  {
   "cell_type": "code",
   "execution_count": 2,
   "id": "6bf51606",
   "metadata": {},
   "outputs": [],
   "source": [
    "%load_ext autoreload\n",
    "%autoreload 2"
   ]
  },
  {
   "cell_type": "code",
   "execution_count": 3,
   "id": "059deddf",
   "metadata": {},
   "outputs": [
    {
     "name": "stderr",
     "output_type": "stream",
     "text": [
      "Warning: no DISPLAY environment variable.\n",
      "--No graphics will be displayed.\n"
     ]
    }
   ],
   "source": [
    "import os\n",
    "os.environ[\"XLA_PYTHON_CLIENT_MEM_FRACTION\"]=\".4\"\n",
    "\n",
    "import time\n",
    "import matplotlib.pyplot as plt\n",
    "import matplotlib as mpl\n",
    "import numpy as np\n",
    "from copy import deepcopy\n",
    "\n",
    "import jax\n",
    "import jax.numpy as jnp\n",
    "from jax import jit, lax, grad, value_and_grad, vmap\n",
    "import optax\n",
    "import distrax\n",
    "\n",
    "from neuron import h\n",
    "_ = h.load_file(\"stdlib.hoc\")\n",
    "\n",
    "from neurax.integrate import solve\n",
    "from neurax.cell import Cell, _compute_num_kids, _compute_index_of_kid, compute_levels\n",
    "from neurax.stimulus import Stimulus, step_current\n",
    "from neurax.recording import Recording\n",
    "from neurax.connection import Connection, Connectivity\n",
    "from neurax.utils.plot_utils import plot_morph\n",
    "from neurax.mechanisms.hh_neuron import hh_neuron_gate\n",
    "from neurax.mechanisms.glutamate_synapse import glutamate"
   ]
  },
  {
   "cell_type": "code",
   "execution_count": 4,
   "id": "2af23c25",
   "metadata": {},
   "outputs": [],
   "source": [
    "device_str = \"cpu\"\n",
    "jax.config.update('jax_platform_name', device_str)\n",
    "\n",
    "cpus = jax.devices(\"cpu\")\n",
    "gpus = jax.devices(\"gpu\")\n",
    "\n",
    "device = cpus[0] if device_str == \"cpu\" else gpus[0]"
   ]
  },
  {
   "cell_type": "markdown",
   "id": "243323ea",
   "metadata": {},
   "source": [
    "# Setup\n",
    "\n",
    "### Define model"
   ]
  },
  {
   "cell_type": "code",
   "execution_count": 5,
   "id": "b584f3ab",
   "metadata": {},
   "outputs": [],
   "source": [
    "n_params_per_cell = 1"
   ]
  },
  {
   "cell_type": "code",
   "execution_count": 6,
   "id": "98e443f8",
   "metadata": {},
   "outputs": [],
   "source": [
    "num_cells = 16\n",
    "nseg_per_branch = 4\n",
    "num_branches = 15\n",
    "ncomp = num_branches * nseg_per_branch\n",
    "parents = jnp.asarray([-1, 0, 0, 1, 1, 2, 2, 3, 3, 4, 4, 5, 5, 6, 6])\n",
    "\n",
    "assert len(parents) == num_branches\n",
    "\n",
    "# Initialize states\n",
    "init_v = jnp.asarray([[-62.0] * num_branches*nseg_per_branch] * num_cells)\n",
    "init_m = jnp.asarray([[0.074901] * num_branches*nseg_per_branch] * num_cells)\n",
    "init_h = jnp.asarray([[0.4889] * num_branches*nseg_per_branch] * num_cells)\n",
    "init_n = jnp.asarray([[0.3644787] * num_branches*nseg_per_branch] * num_cells)\n",
    "hh_states = jnp.stack([init_m, init_h, init_n])\n",
    "\n",
    "length = 100.0  # um (length of a single branch)\n",
    "radius = 10.0  # um\n",
    "r_a = 10_000  # ohm cm \n",
    "i_delay = 5.0  # ms\n",
    "i_amp = 1.0  # nA\n",
    "i_dur = 2.0  # ms\n",
    "dt = 0.025  # ms\n",
    "t_max = 15.0  # ms"
   ]
  },
  {
   "cell_type": "code",
   "execution_count": 7,
   "id": "682e77e3",
   "metadata": {},
   "outputs": [
    {
     "data": {
      "image/png": "[encoded data removed]",
      "text/plain": [
       "<Figure size 200x200 with 1 Axes>"
      ]
     },
     "metadata": {},
     "output_type": "display_data"
    }
   ],
   "source": [
    "plot_morph(\n",
    "    parents, \n",
    "    _compute_num_kids(parents), \n",
    "    _compute_index_of_kid(parents), \n",
    "    compute_levels(parents),\n",
    ")\n",
    "plt.savefig(\"../../results/morph.png\", dpi=200, bbox_inches=\"tight\")"
   ]
  },
  {
   "cell_type": "markdown",
   "id": "f6e3a7e4",
   "metadata": {},
   "source": [
    "### Set up model"
   ]
  },
  {
   "cell_type": "code",
   "execution_count": 8,
   "id": "a8c394fa",
   "metadata": {},
   "outputs": [],
   "source": [
    "time_vec = jnp.arange(0, t_max+dt, dt)"
   ]
  },
  {
   "cell_type": "code",
   "execution_count": 9,
   "id": "2e6e9b82",
   "metadata": {},
   "outputs": [],
   "source": [
    "cells = [Cell(num_branches, parents, nseg_per_branch, length, radius, r_a)] * num_cells\n",
    "recs = [\n",
    "    Recording(15, 0, 0.0),\n",
    "]\n",
    "conns = []\n",
    "for pre in jnp.arange(5):\n",
    "    for post in jnp.arange(5, 15):\n",
    "        conn = Connection(pre, 0, 0.0, post, 7+pre, 1.0)\n",
    "        conns.append(conn)\n",
    "for pre in jnp.arange(5, 10):\n",
    "    for post in jnp.arange(15, 16):\n",
    "        conn = Connection(pre, 0, 0.0, post, 2+pre, 1.0)\n",
    "        conns.append(conn)\n",
    "for pre in jnp.arange(10, 15):\n",
    "    for post in jnp.arange(15, 16):\n",
    "        conn = Connection(pre, 0, 0.0, post, -3+pre, 0.5)\n",
    "        conns.append(conn)\n",
    "        \n",
    "connectivities = [Connectivity(conns, nseg_per_branch),]"
   ]
  },
  {
   "cell_type": "markdown",
   "id": "42def901",
   "metadata": {},
   "source": [
    "### Parameter bounds"
   ]
  },
  {
   "cell_type": "code",
   "execution_count": 11,
   "id": "5700a21b",
   "metadata": {},
   "outputs": [],
   "source": [
    "def sigmoid(x):\n",
    "    return 1 / (1 + jnp.exp(-x))\n",
    "\n",
    "def expit(x):\n",
    "    return -jnp.log(1 / x - 1)\n",
    "\n",
    "lower_gna = jnp.asarray([[0.08] * n_params_per_cell] * num_cells)\n",
    "upper_gna = jnp.asarray([[0.16] * n_params_per_cell] * num_cells)\n",
    "\n",
    "lower_gkd = jnp.asarray([[0.02] * n_params_per_cell] * num_cells)\n",
    "upper_gkd = jnp.asarray([[0.05] * n_params_per_cell] * num_cells)\n",
    "\n",
    "lower_gleak = jnp.asarray([[0.0002] * n_params_per_cell] * num_cells)\n",
    "upper_gleak = jnp.asarray([[0.0004] * n_params_per_cell] * num_cells)\n",
    "\n",
    "lower = jnp.stack([lower_gna, lower_gkd, lower_gleak])\n",
    "upper = jnp.stack([upper_gna, upper_gkd, upper_gleak])\n",
    "\n",
    "tf = distrax.Lambda(\n",
    "    forward=lambda x: sigmoid(x) * (upper-lower) + lower, \n",
    "    inverse=lambda x: expit((x - lower) / (upper - lower))\n",
    ")\n",
    "\n",
    "lower_syn = jnp.asarray([0.6] * len(conns))\n",
    "upper_syn = jnp.asarray([1.4] * len(conns))\n",
    "\n",
    "tf_syn = distrax.Lambda(\n",
    "    forward=lambda x: sigmoid(x) * (upper_syn-lower_syn) + lower_syn, \n",
    "    inverse=lambda x: expit((x - lower_syn) / (upper_syn - lower_syn))\n",
    ")"
   ]
  },
  {
   "cell_type": "markdown",
   "id": "551531c2",
   "metadata": {},
   "source": [
    "### ODE"
   ]
  },
  {
   "cell_type": "code",
   "execution_count": 12,
   "id": "7c0244cc",
   "metadata": {},
   "outputs": [],
   "source": [
    "checkpoint_inds = []\n",
    "def ode(diff_params, diff_syn_params, stim_traces):\n",
    "    # Prepare params.\n",
    "    diff_params = tf.forward(diff_params)\n",
    "    \n",
    "    # Repeat parameter for each compartment.\n",
    "    hh_params = jnp.tile(diff_params, (1, 1, ncomp))\n",
    "    \n",
    "    # Transform synaptic params.\n",
    "    synapse_params = tf_syn.forward(diff_syn_params)\n",
    "    \n",
    "    # Prepare stimuli.\n",
    "    stims = [\n",
    "        Stimulus(\n",
    "            cell_ind=i, \n",
    "            branch_ind=0, \n",
    "            loc=0.0, \n",
    "            current=stim_traces[i]\n",
    "        ) for i in range(5)\n",
    "    ]\n",
    "    \n",
    "    mem_channels = [hh_neuron_gate,]\n",
    "    mem_states = [hh_states,]\n",
    "    mem_params = [hh_params,]\n",
    "\n",
    "    syn_channels = [glutamate,]\n",
    "    syn_states = [jnp.zeros((len(conns))),]\n",
    "    syn_params = [synapse_params,]\n",
    "    \n",
    "    # Solve ODE.\n",
    "    s = solve(\n",
    "        cells,\n",
    "        connectivities,\n",
    "        init_v,\n",
    "        mem_states=mem_states,\n",
    "        mem_params=mem_params,\n",
    "        mem_channels=mem_channels,\n",
    "        syn_states=syn_states,\n",
    "        syn_params=syn_params,\n",
    "        syn_channels=syn_channels,\n",
    "        stimuli=stims,\n",
    "        recordings=recs,\n",
    "        t_max=t_max,\n",
    "        dt=dt,\n",
    "        solver=\"stone\",\n",
    "        checkpoint_inds=checkpoint_inds\n",
    "    )\n",
    "    \n",
    "    return s\n",
    "\n",
    "\n",
    "def loss_fn(diff_params, diff_syn_params, stim_traces, target):\n",
    "    s = ode(diff_params, diff_syn_params, stim_traces)\n",
    "    voltage_at_last_time = s[0, -1]\n",
    "    target_at_last_time = target[0, -1]\n",
    "    return (voltage_at_last_time - target_at_last_time) ** 2"
   ]
  },
  {
   "cell_type": "markdown",
   "id": "50fb3a23",
   "metadata": {},
   "source": [
    "### Generate data"
   ]
  },
  {
   "cell_type": "code",
   "execution_count": 13,
   "id": "465d4062",
   "metadata": {},
   "outputs": [],
   "source": [
    "g_na = jnp.asarray([[0.12] * n_params_per_cell] * num_cells)\n",
    "g_kd = jnp.asarray([[0.036] * n_params_per_cell] * num_cells)\n",
    "g_leak = jnp.asarray([[0.0003] * n_params_per_cell] * num_cells)\n",
    "\n",
    "theta_gt = tf.inverse(jnp.stack([g_na, g_kd, g_leak]))\n",
    "synapse_gt = tf_syn.inverse(jnp.asarray([1.0] * len(conns)))"
   ]
  },
  {
   "cell_type": "code",
   "execution_count": 14,
   "id": "2e2f1d90",
   "metadata": {},
   "outputs": [],
   "source": [
    "n_inputs = 5\n",
    "\n",
    "n_batches = 10\n",
    "batchsize = 4\n",
    "n_train = n_batches * batchsize\n",
    "\n",
    "np.random.seed(0)\n",
    "stim_intensities = 2 * jnp.asarray(np.random.rand(n_train, n_inputs))\n",
    "\n",
    "stims = jnp.asarray(\n",
    "    [\n",
    "        [\n",
    "            stim_intensities[j, i] * step_current(i_delay, i_dur, i_amp, time_vec) for i in range(n_inputs)\n",
    "        ] for j in range(n_train)\n",
    "    ]\n",
    ")\n",
    "stims_in_batches = jnp.reshape(stims, (n_batches, batchsize, n_inputs, -1))"
   ]
  },
  {
   "cell_type": "code",
   "execution_count": 15,
   "id": "8466699a",
   "metadata": {},
   "outputs": [
    {
     "data": {
      "image/png": "[encoded data removed]",
      "text/plain": [
       "<Figure size 200x300 with 5 Axes>"
      ]
     },
     "metadata": {},
     "output_type": "display_data"
    }
   ],
   "source": [
    "with mpl.rc_context(fname=\".matplotlibrc\"):\n",
    "    fig, ax = plt.subplots(n_inputs, 1, figsize=(2, 3))\n",
    "    for i in range(n_inputs):\n",
    "        _ = ax[i].plot(time_vec, stims_in_batches[5, 0, i])\n",
    "        ax[i].set_ylim([0, 2])\n",
    "        ax[i].set_xlabel(\"\")\n",
    "        ax[i].set_xticks([])\n",
    "    ax[n_inputs-1].set_xticks([0, max(time_vec)])\n",
    "    ax[n_inputs-1].set_xlim([0, max(time_vec)])\n",
    "    ax[n_inputs-1].set_xlabel(\"Time (ms)\")\n",
    "    ax[2].set_ylabel(\"Current (nA)\")\n",
    "    plt.subplots_adjust(hspace=0.4)\n",
    "    plt.savefig(\"../../results/stimuli.png\", dpi=200, bbox_inches=\"tight\")"
   ]
  },
  {
   "cell_type": "code",
   "execution_count": 16,
   "id": "5bdaa046",
   "metadata": {},
   "outputs": [],
   "source": [
    "vmaped_ode = vmap(jit(ode), in_axes=(None, None, 0))"
   ]
  },
  {
   "cell_type": "code",
   "execution_count": 17,
   "id": "4eb4497e",
   "metadata": {},
   "outputs": [
    {
     "name": "stdout",
     "output_type": "stream",
     "text": [
      "Time:   3.9596078395843506\n",
      "Time:   0.21218299865722656\n",
      "Time:   0.21402525901794434\n",
      "Time:   0.2126462459564209\n",
      "Time:   0.21198606491088867\n",
      "Time:   0.21242642402648926\n",
      "Time:   0.2128305435180664\n",
      "Time:   0.21240663528442383\n",
      "Time:   0.21233224868774414\n",
      "Time:   0.21313881874084473\n"
     ]
    }
   ],
   "source": [
    "targets = []\n",
    "for batch in stims_in_batches:\n",
    "    start_time = time.time()\n",
    "    results = vmaped_ode(\n",
    "        theta_gt,\n",
    "        synapse_gt,\n",
    "        batch, \n",
    "    )\n",
    "    print(\"Time:  \", time.time() - start_time)\n",
    "    targets.append(results)\n",
    "targets_in_batches = jnp.asarray(targets)"
   ]
  },
  {
   "cell_type": "code",
   "execution_count": 18,
   "id": "56b1499a",
   "metadata": {},
   "outputs": [
    {
     "data": {
      "image/png": "[encoded data removed]",
      "text/plain": [
       "<Figure size 200x200 with 1 Axes>"
      ]
     },
     "metadata": {},
     "output_type": "display_data"
    }
   ],
   "source": [
    "with mpl.rc_context(fname=\".matplotlibrc\"):\n",
    "    fig, ax = plt.subplots(1, 1, figsize=(2, 2))\n",
    "    _ = ax.plot(time_vec, targets_in_batches[5, 0, 0])\n",
    "    _ = ax.set_ylim([-80, 50])\n",
    "    ax.set_xlabel(\"\")\n",
    "    ax.set_xticks([])\n",
    "    ax.set_xticks([0, max(time_vec)])\n",
    "    ax.set_xlim([0, max(time_vec)])\n",
    "    ax.set_xlabel(\"Time (ms)\")\n",
    "    ax.set_ylabel(\"Voltage (mV)\")\n",
    "    plt.subplots_adjust(hspace=0.4)\n",
    "#     plt.savefig(\"../../results/response.png\", dpi=200, bbox_inches=\"tight\")"
   ]
  },
  {
   "cell_type": "markdown",
   "id": "433234f2",
   "metadata": {},
   "source": [
    "### Compile grad"
   ]
  },
  {
   "cell_type": "code",
   "execution_count": 19,
   "id": "c42b5620",
   "metadata": {},
   "outputs": [],
   "source": [
    "vmaped_grad = vmap(jit(value_and_grad(loss_fn, argnums=(0, 1))), in_axes=(None, None, 0, 0))"
   ]
  },
  {
   "cell_type": "code",
   "execution_count": 20,
   "id": "36057598",
   "metadata": {},
   "outputs": [
    {
     "name": "stdout",
     "output_type": "stream",
     "text": [
      "Time:   42.684728384017944\n",
      "loss [8.86364113e-27 8.07793567e-26 5.04870979e-29 3.43627810e-27]\n"
     ]
    }
   ],
   "source": [
    "start_time = time.time()\n",
    "loss, grad_val = vmaped_grad(\n",
    "    theta_gt,\n",
    "    synapse_gt,\n",
    "    stims_in_batches[0],\n",
    "    targets_in_batches[0],\n",
    ")\n",
    "print(\"Time:  \", time.time() - start_time)\n",
    "print(\"loss\", loss)"
   ]
  },
  {
   "cell_type": "markdown",
   "id": "75523802",
   "metadata": {},
   "source": [
    "# Optimize"
   ]
  },
  {
   "cell_type": "code",
   "execution_count": 41,
   "id": "432ded66",
   "metadata": {},
   "outputs": [],
   "source": [
    "seed = 4\n",
    "np.random.seed(seed)\n",
    "params_membrane = jnp.asarray(np.random.rand(3, num_cells, n_params_per_cell) * (upper - lower) + lower)\n",
    "params_syn = jnp.asarray(np.random.rand(len(conns)) * (upper_syn - lower_syn) + lower_syn)"
   ]
  },
  {
   "cell_type": "code",
   "execution_count": 42,
   "id": "7f3dd320",
   "metadata": {},
   "outputs": [],
   "source": [
    "theta_membrane = tf.inverse(params_membrane)\n",
    "theta_syn = tf_syn.inverse(params_syn)"
   ]
  },
  {
   "cell_type": "code",
   "execution_count": 43,
   "id": "3a2c5609",
   "metadata": {},
   "outputs": [],
   "source": [
    "optimizer = optax.adam(learning_rate=5e-2)\n",
    "opt_state = optimizer.init((theta_membrane, theta_syn))"
   ]
  },
  {
   "cell_type": "code",
   "execution_count": 44,
   "id": "72620b81",
   "metadata": {},
   "outputs": [
    {
     "name": "stdout",
     "output_type": "stream",
     "text": [
      "iter 0, loss 592.315277314795\n",
      "iter 0, loss 516.3194004996274\n",
      "iter 0, loss 869.0953328489119\n",
      "iter 0, loss 408.16011636033716\n",
      "iter 0, loss 274.810070524921\n",
      "iter 0, loss 65.41772798141173\n",
      "iter 0, loss 86.39470338229452\n",
      "iter 0, loss 11.321322194822342\n",
      "iter 0, loss 7.12211193520657\n",
      "iter 0, loss 53.30683962488992\n",
      "=================== iter: 0, Train loss: 2884.262902667218\n",
      "iter 1, loss 14.811015245134373\n",
      "iter 1, loss 12.503464837330721\n",
      "iter 1, loss 4.267687989046693\n",
      "iter 1, loss 523.7650586435257\n",
      "iter 1, loss 84.43653293805001\n",
      "iter 1, loss 61.42111036884583\n",
      "iter 1, loss 65.6510534009159\n",
      "iter 1, loss 117.47758855451576\n",
      "iter 1, loss 108.65629476825157\n",
      "iter 1, loss 83.46696942119921\n",
      "=================== iter: 1, Train loss: 1076.4567761668156\n",
      "iter 2, loss 92.12894671144505\n",
      "iter 2, loss 65.19382311212104\n",
      "iter 2, loss 59.63554669617753\n",
      "iter 2, loss 645.4342572063966\n",
      "iter 2, loss 88.09812633751693\n",
      "iter 2, loss 26.303691041407035\n",
      "iter 2, loss 21.93980445778437\n",
      "iter 2, loss 32.42398346276633\n",
      "iter 2, loss 15.289591070439672\n",
      "iter 2, loss 14.731673271866658\n",
      "=================== iter: 2, Train loss: 1061.1794433679213\n",
      "iter 3, loss 5.465627241801111\n",
      "iter 3, loss 2.024855521641136\n",
      "iter 3, loss 1.7238733744877905\n",
      "iter 3, loss 317.47235613481917\n",
      "iter 3, loss 1.3851359520161102\n",
      "iter 3, loss 5.028281128223418\n",
      "iter 3, loss 10.849898125855416\n",
      "iter 3, loss 2.2129793585655264\n",
      "iter 3, loss 8.916726666687955\n",
      "iter 3, loss 57.33909683534141\n",
      "=================== iter: 3, Train loss: 412.41883033943907\n",
      "iter 4, loss 13.302839002360646\n",
      "iter 4, loss 21.89678229257392\n",
      "iter 4, loss 37.548310614670115\n",
      "iter 4, loss 224.25971704208087\n",
      "iter 4, loss 8.160089099278457\n",
      "iter 4, loss 10.077603850991782\n",
      "iter 4, loss 9.084855287042434\n",
      "iter 4, loss 0.33026946744039765\n",
      "iter 4, loss 0.2394608702443045\n",
      "iter 4, loss 18.288501420955818\n",
      "=================== iter: 4, Train loss: 343.18842894763884\n",
      "iter 5, loss 1.6041332564502504\n",
      "iter 5, loss 2.061143661295297\n",
      "iter 5, loss 2.2095840738469894\n",
      "iter 5, loss 458.7954173736943\n",
      "iter 5, loss 8.506232563826815\n",
      "iter 5, loss 0.8013343786232949\n",
      "iter 5, loss 3.8975872762833554\n",
      "iter 5, loss 8.410173548973406\n",
      "iter 5, loss 5.783168858614478\n",
      "iter 5, loss 8.380613500855175\n",
      "=================== iter: 5, Train loss: 500.44938849246336\n",
      "iter 6, loss 3.731124648376282\n",
      "iter 6, loss 2.9157740941516623\n",
      "iter 6, loss 4.0580492958619105\n",
      "iter 6, loss 431.9098509684674\n",
      "iter 6, loss 4.396144574018732\n",
      "iter 6, loss 0.2186754310221395\n",
      "iter 6, loss 2.1499388427194814\n",
      "iter 6, loss 1.8551126601335324\n",
      "iter 6, loss 0.5872261824583916\n",
      "iter 6, loss 12.715993582521115\n",
      "=================== iter: 6, Train loss: 464.5378902797306\n",
      "iter 7, loss 1.652774566775138\n",
      "iter 7, loss 4.1283039672562465\n",
      "iter 7, loss 4.599637815772436\n",
      "iter 7, loss 220.92373903348266\n",
      "iter 7, loss 1.71921632332992\n",
      "iter 7, loss 4.384212132250564\n",
      "iter 7, loss 6.265182901579152\n",
      "iter 7, loss 0.9677246298537454\n",
      "iter 7, loss 1.3374304932216439\n",
      "iter 7, loss 25.212105078199382\n",
      "=================== iter: 7, Train loss: 271.19032694172085\n",
      "iter 8, loss 5.921124235887945\n",
      "iter 8, loss 11.644831324532099\n",
      "iter 8, loss 13.011864928416156\n",
      "iter 8, loss 11.655094072993874\n",
      "iter 8, loss 6.893872099953227\n",
      "iter 8, loss 6.665580930393741\n",
      "iter 8, loss 8.09394596744744\n",
      "iter 8, loss 1.870384129068417\n",
      "iter 8, loss 0.5910906739494703\n",
      "iter 8, loss 19.298494795677936\n",
      "=================== iter: 8, Train loss: 85.6462831583203\n",
      "iter 9, loss 4.151938437037371\n",
      "iter 9, loss 8.86889920559998\n",
      "iter 9, loss 9.419471199339737\n",
      "iter 9, loss 9.34090826803926\n",
      "iter 9, loss 3.2030925946338984\n",
      "iter 9, loss 1.241400586340424\n",
      "iter 9, loss 3.30859024478261\n",
      "iter 9, loss 2.244453248175259\n",
      "iter 9, loss 3.1886819285501087\n",
      "iter 9, loss 7.178003097820922\n",
      "=================== iter: 9, Train loss: 52.145438810319575\n",
      "iter 10, loss 3.3914659113152714\n",
      "iter 10, loss 4.9985757454185595\n",
      "iter 10, loss 7.727855990933072\n",
      "iter 10, loss 30.983293871020187\n",
      "iter 10, loss 2.0947851115906047\n",
      "iter 10, loss 0.6580557902823032\n",
      "iter 10, loss 3.3409432175923754\n",
      "iter 10, loss 2.980586667000799\n",
      "iter 10, loss 2.9933172359862823\n",
      "iter 10, loss 8.36582342408023\n",
      "=================== iter: 10, Train loss: 67.53470296521968\n",
      "iter 11, loss 2.760698845760721\n",
      "iter 11, loss 5.790101413783865\n",
      "iter 11, loss 7.608298631211616\n",
      "iter 11, loss 19.47274835119452\n",
      "iter 11, loss 2.168917080023715\n",
      "iter 11, loss 0.6349257474951389\n",
      "iter 11, loss 3.037048738960553\n",
      "iter 11, loss 2.5786344019610574\n",
      "iter 11, loss 3.0718956518944047\n",
      "iter 11, loss 7.228411715890542\n",
      "=================== iter: 11, Train loss: 54.35168057817614\n",
      "iter 12, loss 2.8785897873894797\n",
      "iter 12, loss 4.6372216241791255\n",
      "iter 12, loss 6.77615739187928\n",
      "iter 12, loss 27.168416817942187\n",
      "iter 12, loss 1.2654283112313065\n",
      "iter 12, loss 0.45638134268561587\n",
      "iter 12, loss 2.7993205632218174\n",
      "iter 12, loss 1.5392825847635274\n",
      "iter 12, loss 0.9106737452253076\n",
      "iter 12, loss 10.942045596511086\n",
      "=================== iter: 12, Train loss: 59.37351776502874\n",
      "iter 13, loss 2.0843824330224843\n",
      "iter 13, loss 5.63229203084189\n",
      "iter 13, loss 7.119657096606522\n",
      "iter 13, loss 11.921061113201112\n",
      "iter 13, loss 2.131972064986672\n",
      "iter 13, loss 0.976038810442754\n",
      "iter 13, loss 2.8367493426035306\n",
      "iter 13, loss 1.4048329642456483\n",
      "iter 13, loss 1.299871247706365\n",
      "iter 13, loss 8.735082371884596\n",
      "=================== iter: 13, Train loss: 44.14193947554158\n",
      "iter 14, loss 2.0105702498848674\n",
      "iter 14, loss 4.186763719403174\n",
      "iter 14, loss 5.929679757926687\n",
      "iter 14, loss 27.217132094226628\n",
      "iter 14, loss 0.9322090319514489\n",
      "iter 14, loss 0.4663096054991426\n",
      "iter 14, loss 2.6461590087643754\n",
      "iter 14, loss 1.14904588135003\n",
      "iter 14, loss 0.5211971323284741\n",
      "iter 14, loss 11.565822484091283\n",
      "=================== iter: 14, Train loss: 56.624888965426116\n"
     ]
    }
   ],
   "source": [
    "all_epoch_losses = []\n",
    "all_batch_losses = []\n",
    "median_epoch_losses = []\n",
    "num_iter = 15\n",
    "for iter_ in range(num_iter):\n",
    "    train_loss = 0.0\n",
    "    train_losses = []\n",
    "    for batch_stims, batch_targets in zip(stims_in_batches, targets_in_batches):\n",
    "        loss, grad = vmaped_grad(\n",
    "            theta_membrane,\n",
    "            theta_syn,\n",
    "            batch_stims,\n",
    "            batch_targets,\n",
    "        )\n",
    "        loss = jnp.mean(loss, axis=0)\n",
    "        train_losses.append(loss)\n",
    "        train_loss += loss\n",
    "        grad_membrane = jnp.mean(grad[0], axis=0)\n",
    "        grad_synapse = jnp.mean(grad[1], axis=0)\n",
    "        \n",
    "        if jnp.any(jnp.isnan(grad_membrane)) or jnp.any(jnp.isnan(grad_synapse)):\n",
    "            print(f\"iter {iter_}, loss {loss}, ===== skipping\")\n",
    "            theta_membrane = theta_membrane.at[0, 0, 0].add(1e-3)\n",
    "        else:\n",
    "            print(f\"iter {iter_}, loss {loss}\")\n",
    "            updates, opt_state = optimizer.update((grad_membrane, grad_synapse), opt_state)\n",
    "            theta_membrane, theta_syn = optax.apply_updates((theta_membrane, theta_syn), updates)\n",
    "            \n",
    "        all_batch_losses.append(loss)\n",
    "            \n",
    "    print(f\"=================== iter: {iter_}, Train loss: {train_loss}\")\n",
    "    all_epoch_losses.append(train_loss / n_batches)\n",
    "    median_epoch_losses.append(np.median(train_losses))\n",
    "    \n",
    "    \n",
    "final_membrane = tf.forward(theta_membrane)\n",
    "final_syn = tf_syn.forward(theta_syn)"
   ]
  },
  {
   "cell_type": "code",
   "execution_count": 45,
   "id": "b81169bc",
   "metadata": {},
   "outputs": [],
   "source": [
    "x_epochs = np.arange(num_iter)\n",
    "condition = np.invert(np.isnan(all_epoch_losses))\n",
    "x_epochs = x_epochs[condition]\n",
    "losses_to_plot = np.asarray(all_epoch_losses)[condition]\n",
    "med_losses_to_plot = np.asarray(median_epoch_losses)[condition]"
   ]
  },
  {
   "cell_type": "code",
   "execution_count": 46,
   "id": "c0d76c96",
   "metadata": {},
   "outputs": [
    {
     "data": {
      "image/png": "[encoded data removed]",
      "text/plain": [
       "<Figure size 600x250 with 2 Axes>"
      ]
     },
     "metadata": {},
     "output_type": "display_data"
    }
   ],
   "source": [
    "with mpl.rc_context(fname=\".matplotlibrc\"):\n",
    "    fig, ax = plt.subplots(1, 2, figsize=(6, 2.5))\n",
    "    _ = ax[0].plot(x_epochs, losses_to_plot)\n",
    "    _ = ax[0].scatter(x_epochs, losses_to_plot)\n",
    "    _ = ax[1].plot(x_epochs, med_losses_to_plot)\n",
    "    _ = ax[1].scatter(x_epochs, med_losses_to_plot)\n",
    "    for i in range(2):\n",
    "        _ = ax[i].set_xlim([0, num_iter])\n",
    "        _ = ax[i].set_xlabel(\"Epoch\")\n",
    "    _ = ax[0].set_ylim([0, max(losses_to_plot) * 1.02])\n",
    "    _ = ax[1].set_ylim([0, max(med_losses_to_plot) * 1.02])\n",
    "    _ = ax[0].set_ylabel(r\"MSE train loss ($mV^2$)\")\n",
    "    _ = ax[1].set_ylabel(r\"MedSE train loss ($mV^2$)\")\n",
    "    _ = ax[0].set_title(f\"Batchzize: {batchsize}, num batches: {n_batches}\")\n",
    "    plt.subplots_adjust(wspace=0.6)\n",
    "    plt.savefig(f\"../../results/train_loss_bigger_range_seed_{seed}.png\", dpi=200, bbox_inches=\"tight\")\n",
    "    plt.show()"
   ]
  },
  {
   "cell_type": "code",
   "execution_count": 26,
   "id": "261578a9",
   "metadata": {},
   "outputs": [
    {
     "data": {
      "image/png": "[encoded data removed]",
      "text/plain": [
       "<Figure size 600x250 with 2 Axes>"
      ]
     },
     "metadata": {},
     "output_type": "display_data"
    }
   ],
   "source": [
    "with mpl.rc_context(fname=\".matplotlibrc\"):\n",
    "    fig, ax = plt.subplots(1, 2, figsize=(6, 2.5))\n",
    "    _ = ax[0].plot(x_epochs, losses_to_plot)\n",
    "    _ = ax[0].scatter(x_epochs, losses_to_plot)\n",
    "    _ = ax[1].plot(x_epochs, med_losses_to_plot)\n",
    "    _ = ax[1].scatter(x_epochs, med_losses_to_plot)\n",
    "    for i in range(2):\n",
    "        _ = ax[i].set_xlim([0, num_iter])\n",
    "        _ = ax[i].set_xlabel(\"Epoch\")\n",
    "    _ = ax[0].set_ylim([0, max(losses_to_plot) * 1.02])\n",
    "    _ = ax[1].set_ylim([0, max(med_losses_to_plot) * 1.02])\n",
    "    _ = ax[0].set_ylabel(r\"MSE train loss ($mV^2$)\")\n",
    "    _ = ax[1].set_ylabel(r\"MedSE train loss ($mV^2$)\")\n",
    "    _ = ax[0].set_title(f\"Batchzize: {batchsize}, num batches: {n_batches}\")\n",
    "    plt.subplots_adjust(wspace=0.6)\n",
    "    plt.savefig(f\"../../results/train_loss_bigger_range_seed_{seed}.png\", dpi=200, bbox_inches=\"tight\")\n",
    "    plt.show()"
   ]
  },
  {
   "cell_type": "code",
   "execution_count": null,
   "id": "c742c12a",
   "metadata": {},
   "outputs": [],
   "source": []
  }
 ],
 "metadata": {
  "kernelspec": {
   "display_name": "Python 3 (ipykernel)",
   "language": "python",
   "name": "python3"
  },
  "language_info": {
   "codemirror_mode": {
    "name": "ipython",
    "version": 3
   },
   "file_extension": ".py",
   "mimetype": "text/x-python",
   "name": "python",
   "nbconvert_exporter": "python",
   "pygments_lexer": "ipython3",
   "version": "3.10.9"
  }
 },
 "nbformat": 4,
 "nbformat_minor": 5
}
