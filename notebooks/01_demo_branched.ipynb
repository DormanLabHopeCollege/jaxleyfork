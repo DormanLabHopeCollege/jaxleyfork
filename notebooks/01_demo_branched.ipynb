{
 "cells": [
  {
   "cell_type": "code",
   "execution_count": 1,
   "id": "333efc05",
   "metadata": {},
   "outputs": [],
   "source": [
    "%load_ext autoreload\n",
    "%autoreload 2"
   ]
  },
  {
   "cell_type": "code",
   "execution_count": 2,
   "id": "4980698f",
   "metadata": {},
   "outputs": [
    {
     "name": "stderr",
     "output_type": "stream",
     "text": [
      "Warning: no DISPLAY environment variable.\n",
      "--No graphics will be displayed.\n"
     ]
    }
   ],
   "source": [
    "import os\n",
    "os.environ[\"XLA_PYTHON_CLIENT_MEM_FRACTION\"]=\".2\"\n",
    "\n",
    "import time\n",
    "import matplotlib.pyplot as plt\n",
    "import matplotlib as mpl\n",
    "import numpy as np\n",
    "from copy import deepcopy\n",
    "\n",
    "import jax\n",
    "import jax.numpy as jnp\n",
    "from jax import jit, lax, grad, value_and_grad\n",
    "\n",
    "from neuron import h\n",
    "_ = h.load_file(\"stdlib.hoc\")\n",
    "\n",
    "from neurax.integrate import solve\n",
    "from neurax.cell import Cell\n",
    "from neurax.stimulus import Stimulus, step_current\n",
    "from neurax.recording import Recording\n",
    "from neurax.connection import Connection"
   ]
  },
  {
   "cell_type": "code",
   "execution_count": 3,
   "id": "f91241ba",
   "metadata": {},
   "outputs": [],
   "source": [
    "device_str = \"cpu\"\n",
    "jax.config.update('jax_platform_name', device_str)\n",
    "\n",
    "cpus = jax.devices(\"cpu\")\n",
    "gpus = jax.devices(\"gpu\")\n",
    "\n",
    "device = cpus[0] if device_str == \"cpu\" else gpus[0]"
   ]
  },
  {
   "cell_type": "markdown",
   "id": "12e1bc26",
   "metadata": {},
   "source": [
    "# Solve\n",
    "\n",
    "### Define model"
   ]
  },
  {
   "cell_type": "code",
   "execution_count": 4,
   "id": "3075543d",
   "metadata": {},
   "outputs": [],
   "source": [
    "num_cells = 6\n",
    "nseg_per_branch = 4\n",
    "num_branches = 15\n",
    "ncomp = num_branches * nseg_per_branch\n",
    "parents = jnp.asarray([-1, 0, 0, 1, 1, 2, 2, 3, 3, 4, 4, 5, 5, 6, 6])\n",
    "\n",
    "assert len(parents) == num_branches\n",
    "g_na = jnp.asarray([[0.12] * ncomp] * num_cells)\n",
    "g_kd = jnp.asarray([[0.036] * ncomp] * num_cells)\n",
    "g_leak = jnp.asarray([[0.0003] * ncomp] * num_cells)\n",
    "params = jnp.stack([g_na, g_kd, g_leak])\n",
    "\n",
    "init_v = jnp.asarray([[-62.0] *num_branches*nseg_per_branch] * num_cells)\n",
    "init_m = jnp.asarray([[0.074901] *num_branches*nseg_per_branch] * num_cells)\n",
    "init_h = jnp.asarray([[0.4889] *num_branches*nseg_per_branch] * num_cells)\n",
    "init_n = jnp.asarray([[0.3644787] *num_branches*nseg_per_branch] * num_cells)\n",
    "u = jnp.stack([init_v, init_m, init_h, init_n])\n",
    "\n",
    "length = 100.0  # um (length of a single branch)\n",
    "radius = 10.0  # um\n",
    "r_a = 10_000  # ohm cm \n",
    "i_delay = 5.0  # ms\n",
    "i_amp = 1.0  # nA\n",
    "i_dur = 2.0  # ms\n",
    "dt = 0.025  # ms\n",
    "t_max = 1.0  # ms"
   ]
  },
  {
   "cell_type": "markdown",
   "id": "7bc536cf",
   "metadata": {},
   "source": [
    "### Set up model"
   ]
  },
  {
   "cell_type": "code",
   "execution_count": 5,
   "id": "b4795f3a",
   "metadata": {},
   "outputs": [],
   "source": [
    "time_vec = jnp.arange(0, t_max+dt, dt)"
   ]
  },
  {
   "cell_type": "code",
   "execution_count": 6,
   "id": "a07aba2e",
   "metadata": {},
   "outputs": [],
   "source": [
    "cells = [Cell(num_branches, parents, nseg_per_branch, length, radius, r_a)] * num_cells\n",
    "stims = [\n",
    "    Stimulus(cell_ind=0, branch_ind=0, loc=0.0, current=step_current(i_delay, i_dur, i_amp, time_vec)),\n",
    "    Stimulus(cell_ind=1, branch_ind=0, loc=0.0, current=step_current(i_delay, i_dur, i_amp, time_vec)),\n",
    "]\n",
    "recs = [\n",
    "    Recording(0, 0, 0.0),\n",
    "    Recording(0, 6, 1.0),\n",
    "    Recording(1, 0, 0.0),\n",
    "    Recording(1, 6, 1.0),\n",
    "    Recording(3, 0, 0.0),\n",
    "    Recording(3, 6, 1.0),\n",
    "    Recording(4, 0, 0.0),\n",
    "    Recording(4, 6, 1.0),\n",
    "]\n",
    "conns = [\n",
    "    Connection(0, 0, 0.0, 3, 0, 0.0),\n",
    "    Connection(1, 0, 0.0, 3, 0, 0.3),\n",
    "]"
   ]
  },
  {
   "cell_type": "markdown",
   "id": "b711927c",
   "metadata": {},
   "source": [
    "### Run solver"
   ]
  },
  {
   "cell_type": "code",
   "execution_count": 7,
   "id": "d2fc20c5",
   "metadata": {},
   "outputs": [],
   "source": [
    "start_time = time.time()"
   ]
  },
  {
   "cell_type": "code",
   "execution_count": 10,
   "id": "b707aacf",
   "metadata": {},
   "outputs": [],
   "source": [
    "s = solve(cells, u, params, jnp.ones((2,)), stims, recs, conns, t_max=t_max, dt=dt, solver=\"stone\")"
   ]
  },
  {
   "cell_type": "code",
   "execution_count": 12,
   "id": "9983001c",
   "metadata": {},
   "outputs": [
    {
     "data": {
      "text/plain": [
       "Array([[-62.      , -62.108852, -62.215157, -62.319168, -62.421112,\n",
       "        -62.521175, -62.619545, -62.716362, -62.811764, -62.90584 ,\n",
       "        -62.9987  , -63.090416, -63.18105 , -63.270638, -63.35924 ,\n",
       "        -63.44688 , -63.53357 , -63.619335, -63.704193, -63.788143,\n",
       "        -63.871197, -63.95333 , -64.03456 , -64.11488 , -64.194275,\n",
       "        -64.27273 , -64.350235, -64.4268  , -64.502396, -64.57702 ,\n",
       "        -64.65065 , -64.72329 , -64.794914, -64.86551 , -64.93508 ,\n",
       "        -65.003624, -65.07111 , -65.13754 , -65.20293 , -65.26725 ,\n",
       "        -65.33049 ],\n",
       "       [-62.      , -62.108856, -62.215164, -62.31917 , -62.42112 ,\n",
       "        -62.521194, -62.619556, -62.71638 , -62.811775, -62.905865,\n",
       "        -62.998734, -63.09044 , -63.18107 , -63.270668, -63.35927 ,\n",
       "        -63.446907, -63.533604, -63.619373, -63.704235, -63.788193,\n",
       "        -63.871254, -63.953396, -64.034615, -64.11493 , -64.19431 ,\n",
       "        -64.27277 , -64.35029 , -64.42686 , -64.50245 , -64.577065,\n",
       "        -64.650696, -64.72332 , -64.79494 , -64.86554 , -64.935104,\n",
       "        -65.00363 , -65.07113 , -65.137566, -65.20296 , -65.267265,\n",
       "        -65.33051 ],\n",
       "       [-62.      , -62.108852, -62.215157, -62.319168, -62.421112,\n",
       "        -62.521175, -62.619545, -62.716362, -62.811764, -62.90584 ,\n",
       "        -62.9987  , -63.090416, -63.18105 , -63.270638, -63.35924 ,\n",
       "        -63.44688 , -63.53357 , -63.619335, -63.704193, -63.788143,\n",
       "        -63.871197, -63.95333 , -64.03456 , -64.11488 , -64.194275,\n",
       "        -64.27273 , -64.350235, -64.4268  , -64.502396, -64.57702 ,\n",
       "        -64.65065 , -64.72329 , -64.794914, -64.86551 , -64.93508 ,\n",
       "        -65.003624, -65.07111 , -65.13754 , -65.20293 , -65.26725 ,\n",
       "        -65.33049 ],\n",
       "       [-62.      , -62.108856, -62.215164, -62.31917 , -62.42112 ,\n",
       "        -62.521194, -62.619556, -62.71638 , -62.811775, -62.905865,\n",
       "        -62.998734, -63.09044 , -63.18107 , -63.270668, -63.35927 ,\n",
       "        -63.446907, -63.533604, -63.619373, -63.704235, -63.788193,\n",
       "        -63.871254, -63.953396, -64.034615, -64.11493 , -64.19431 ,\n",
       "        -64.27277 , -64.35029 , -64.42686 , -64.50245 , -64.577065,\n",
       "        -64.650696, -64.72332 , -64.79494 , -64.86554 , -64.935104,\n",
       "        -65.00363 , -65.07113 , -65.137566, -65.20296 , -65.267265,\n",
       "        -65.33051 ],\n",
       "       [-62.      , -62.108852, -62.2151  , -62.31898 , -62.42074 ,\n",
       "        -62.52058 , -62.618675, -62.715176, -62.81021 , -62.903896,\n",
       "        -62.99632 , -63.087563, -63.177692, -63.26675 , -63.354797,\n",
       "        -63.441845, -63.527927, -63.613045, -63.69724 , -63.780502,\n",
       "        -63.862854, -63.944267, -64.02476 , -64.1043  , -64.18291 ,\n",
       "        -64.26058 , -64.337296, -64.41303 , -64.48779 , -64.56157 ,\n",
       "        -64.63435 , -64.706116, -64.77686 , -64.84659 , -64.915276,\n",
       "        -64.98292 , -65.049515, -65.11505 , -65.17952 , -65.24292 ,\n",
       "        -65.30524 ],\n",
       "       [-62.      , -62.108856, -62.215164, -62.31917 , -62.42112 ,\n",
       "        -62.521194, -62.619556, -62.71638 , -62.811775, -62.905865,\n",
       "        -62.998734, -63.09044 , -63.18107 , -63.270668, -63.35927 ,\n",
       "        -63.446907, -63.533604, -63.619373, -63.704235, -63.788193,\n",
       "        -63.871254, -63.953396, -64.034615, -64.11493 , -64.19431 ,\n",
       "        -64.27277 , -64.35029 , -64.42686 , -64.50245 , -64.577065,\n",
       "        -64.650696, -64.72332 , -64.79494 , -64.86554 , -64.935104,\n",
       "        -65.00363 , -65.07113 , -65.137566, -65.20295 , -65.26726 ,\n",
       "        -65.330505],\n",
       "       [-62.      , -62.108852, -62.215157, -62.319168, -62.421112,\n",
       "        -62.521175, -62.619545, -62.716362, -62.811764, -62.90584 ,\n",
       "        -62.9987  , -63.090416, -63.18105 , -63.270638, -63.35924 ,\n",
       "        -63.44688 , -63.53357 , -63.619335, -63.704193, -63.788143,\n",
       "        -63.871197, -63.95333 , -64.03456 , -64.11488 , -64.194275,\n",
       "        -64.27273 , -64.350235, -64.4268  , -64.502396, -64.57702 ,\n",
       "        -64.65065 , -64.72329 , -64.794914, -64.86551 , -64.93508 ,\n",
       "        -65.003624, -65.07111 , -65.13754 , -65.20293 , -65.26725 ,\n",
       "        -65.33049 ],\n",
       "       [-62.      , -62.108856, -62.215164, -62.31917 , -62.42112 ,\n",
       "        -62.521194, -62.619556, -62.71638 , -62.811775, -62.905865,\n",
       "        -62.998734, -63.09044 , -63.18107 , -63.270668, -63.35927 ,\n",
       "        -63.446907, -63.533604, -63.619373, -63.704235, -63.788193,\n",
       "        -63.871254, -63.953396, -64.034615, -64.11493 , -64.19431 ,\n",
       "        -64.27277 , -64.35029 , -64.42686 , -64.50245 , -64.577065,\n",
       "        -64.650696, -64.72332 , -64.79494 , -64.86554 , -64.935104,\n",
       "        -65.00363 , -65.07113 , -65.137566, -65.20296 , -65.267265,\n",
       "        -65.33051 ]], dtype=float32)"
      ]
     },
     "execution_count": 12,
     "metadata": {},
     "output_type": "execute_result"
    }
   ],
   "source": [
    "s"
   ]
  },
  {
   "cell_type": "code",
   "execution_count": null,
   "id": "e1a918e7",
   "metadata": {},
   "outputs": [],
   "source": [
    "print(\"Time: \", time.time() - start_time)"
   ]
  },
  {
   "cell_type": "markdown",
   "id": "4b8d8dc3",
   "metadata": {},
   "source": [
    "### Vis"
   ]
  },
  {
   "cell_type": "code",
   "execution_count": 44,
   "id": "4556cd7b",
   "metadata": {},
   "outputs": [
    {
     "data": {
      "image/png": "[encoded data removed]",
      "text/plain": [
       "<Figure size 1600x160 with 8 Axes>"
      ]
     },
     "metadata": {},
     "output_type": "display_data"
    }
   ],
   "source": [
    "num_recs = 8\n",
    "with mpl.rc_context(fname=\".matplotlibrc\"):\n",
    "    fig, ax = plt.subplots(1, num_recs, figsize=(num_recs * 2, 1.6))\n",
    "    ax = np.atleast_1d(ax)\n",
    "    for i in range(num_recs):\n",
    "        _ = ax[i].plot(time_vec, s[i], c=\"k\")\n",
    "\n",
    "    _ = ax[0].set_xlabel(\"Time (ms)\")\n",
    "    _ = ax[0].set_ylabel(\"Voltage (mV)\")\n",
    "    \n",
    "    for a in ax[1:]:\n",
    "        a.set_yticklabels([])\n",
    "    for a in ax:\n",
    "        _ = a.set_ylim([-80, 50])\n",
    "        a.set_xticks([0, t_max])\n",
    "        a.set_xlim([0, t_max])\n",
    "    plt.show()"
   ]
  },
  {
   "cell_type": "markdown",
   "id": "49846022",
   "metadata": {},
   "source": [
    "# Gradient"
   ]
  },
  {
   "cell_type": "code",
   "execution_count": 52,
   "id": "50dad57d",
   "metadata": {},
   "outputs": [],
   "source": [
    "checkpoint_inds = [200, 400, 600]\n",
    "def sum_ode(diff_params):\n",
    "    s = solve_and_grad(cells, u, diff_params, stims, recs, conns, t_max=t_max, dt=dt, solver=\"stone\", checkpoint_inds=checkpoint_inds)\n",
    "    return jnp.mean(s)"
   ]
  },
  {
   "cell_type": "code",
   "execution_count": 53,
   "id": "0693b29d",
   "metadata": {},
   "outputs": [],
   "source": [
    "jitted_sum_ode = jit(sum_ode)"
   ]
  },
  {
   "cell_type": "code",
   "execution_count": 55,
   "id": "6ff96125",
   "metadata": {},
   "outputs": [
    {
     "name": "stdout",
     "output_type": "stream",
     "text": [
      "Time:   0.22594618797302246\n"
     ]
    }
   ],
   "source": [
    "start_time = time.time()\n",
    "result = jitted_sum_ode(params)\n",
    "print(\"Time:  \", time.time() - start_time)"
   ]
  },
  {
   "cell_type": "code",
   "execution_count": 66,
   "id": "9aa105c7",
   "metadata": {},
   "outputs": [],
   "source": [
    "jitted_grad = jit(value_and_grad(sum_ode))"
   ]
  },
  {
   "cell_type": "code",
   "execution_count": 67,
   "id": "87957af9",
   "metadata": {},
   "outputs": [
    {
     "name": "stdout",
     "output_type": "stream",
     "text": [
      "Time:   125.0822319984436\n",
      "Solve -61.26784\n",
      "Grad [[-1.8830334e-03  6.6960134e-02 -4.4424207e-05]\n",
      " [-9.2289299e-02 -4.3984312e-01 -3.4559614e-03]\n",
      " [ 1.1711740e+01  2.0708889e+01  3.9166570e-01]]\n"
     ]
    }
   ],
   "source": [
    "start_time = time.time()\n",
    "result = jitted_grad(params)\n",
    "print(\"Time:  \", time.time() - start_time)\n",
    "print(\"Solve\", result[0])\n",
    "print(\"Grad\", result[1][:, 0, ::100])"
   ]
  },
  {
   "cell_type": "markdown",
   "id": "55349e84",
   "metadata": {},
   "source": [
    "### Check vs finit differences"
   ]
  },
  {
   "cell_type": "code",
   "execution_count": 106,
   "id": "670e5a7a",
   "metadata": {},
   "outputs": [],
   "source": [
    "all_finite_diffs = []\n",
    "all_auto_diffs = []\n",
    "epsilon = 5e-3\n",
    "for cond_ind in [0, 1, 2]:\n",
    "    all_finite_diffs_for_cond = []\n",
    "    all_auto_diffs_for_cond = []\n",
    "    for cell_ind in [0, 1, 3, 4]:\n",
    "        for comp_ind in [0, 40, 80, 120, 160, 200]:\n",
    "            params_lower = deepcopy(params)\n",
    "            params_upper = deepcopy(params)\n",
    "            params_lower = params_lower.at[cond_ind, cell_ind, comp_ind].add(-epsilon / 2)\n",
    "            params_upper = params_upper.at[cond_ind, cell_ind, comp_ind].add(epsilon / 2)\n",
    "            finite_diff_grad = (sum_ode(params_upper) - sum_ode(params_lower)) / epsilon\n",
    "#             print(f\"cond: {cond_ind}, cell: {cell_ind}, comp: {comp_ind}, finite / auto {1000*finite_diff_grad:.4f}, {1000*result[1][cond_ind, cell_ind, comp_ind]:.4f}\")\n",
    "            all_finite_diffs_for_cond.append(finite_diff_grad)\n",
    "            all_auto_diffs_for_cond.append(result[1][cond_ind, cell_ind, comp_ind])\n",
    "    all_finite_diffs.append(all_finite_diffs_for_cond)\n",
    "    all_auto_diffs.append(all_auto_diffs_for_cond)\n",
    "            "
   ]
  },
  {
   "cell_type": "code",
   "execution_count": 129,
   "id": "2fd1e135",
   "metadata": {},
   "outputs": [
    {
     "data": {
      "image/png": "[encoded data removed]",
      "text/plain": [
       "<Figure size 700x180 with 3 Axes>"
      ]
     },
     "metadata": {},
     "output_type": "display_data"
    }
   ],
   "source": [
    "with mpl.rc_context(fname=\".matplotlibrc\"):\n",
    "    fig, ax = plt.subplots(1, 3, figsize=(7, 1.8))\n",
    "    ax[0].plot([-0.01, 0.02], [-0.01, 0.02], c=\"gray\", alpha=0.4)\n",
    "    ax[1].plot([-0.25, 0.02], [-0.25, 0.02], c=\"gray\", alpha=0.4)\n",
    "    ax[2].plot([-1, 22], [-1, 22], c=\"gray\", alpha=0.4)\n",
    "    ax[0].scatter(all_finite_diffs[0], all_auto_diffs[0], c=\"#1f78b4\")\n",
    "    ax[1].scatter(all_finite_diffs[1], all_auto_diffs[1], c=\"#33a02c\")\n",
    "    ax[2].scatter(all_finite_diffs[2], all_auto_diffs[2], c=\"#e31a1c\")\n",
    "    ax[0].set_title(\"Sodium\")\n",
    "    ax[1].set_title(\"Potassium\")\n",
    "    ax[2].set_title(\"Leak\")\n",
    "    ax[0].set_ylabel(\"Auto-diff\")\n",
    "    ax[1].set_xlabel(\"Finite-diff\")\n",
    "    plt.subplots_adjust(wspace=0.4)\n",
    "    plt.savefig(\"../../results/finite_vs_auto.png\", dpi=200, bbox_inches=\"tight\")\n",
    "    plt.show()"
   ]
  },
  {
   "cell_type": "code",
   "execution_count": null,
   "id": "e472034f",
   "metadata": {},
   "outputs": [],
   "source": []
  }
 ],
 "metadata": {
  "kernelspec": {
   "display_name": "Python 3 (ipykernel)",
   "language": "python",
   "name": "python3"
  },
  "language_info": {
   "codemirror_mode": {
    "name": "ipython",
    "version": 3
   },
   "file_extension": ".py",
   "mimetype": "text/x-python",
   "name": "python",
   "nbconvert_exporter": "python",
   "pygments_lexer": "ipython3",
   "version": "3.10.9"
  }
 },
 "nbformat": 4,
 "nbformat_minor": 5
}
