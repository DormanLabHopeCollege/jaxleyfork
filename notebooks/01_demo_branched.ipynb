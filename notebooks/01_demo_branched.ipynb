{
 "cells": [
  {
   "cell_type": "code",
   "execution_count": 1,
   "id": "885d5bd0",
   "metadata": {},
   "outputs": [],
   "source": [
    "%load_ext autoreload\n",
    "%autoreload 2"
   ]
  },
  {
   "cell_type": "code",
   "execution_count": 2,
   "id": "806c169c",
   "metadata": {},
   "outputs": [],
   "source": [
    "import os\n",
    "os.environ[\"XLA_PYTHON_CLIENT_MEM_FRACTION\"]=\".2\"\n",
    "\n",
    "import time\n",
    "import matplotlib.pyplot as plt\n",
    "import matplotlib as mpl\n",
    "import numpy as np\n",
    "\n",
    "import jax\n",
    "import jax.numpy as jnp\n",
    "from jax import jit, lax, grad, value_and_grad\n",
    "\n",
    "from neuron import h\n",
    "_ = h.load_file(\"stdlib.hoc\")\n",
    "\n",
    "from neurax.integrate import solve\n",
    "from neurax.cell import Cell\n",
    "from neurax.stimulus import Stimulus, step_current\n",
    "from neurax.recording import Recording"
   ]
  },
  {
   "cell_type": "code",
   "execution_count": 3,
   "id": "f55564cc",
   "metadata": {},
   "outputs": [],
   "source": [
    "device_str = \"cpu\"\n",
    "jax.config.update('jax_platform_name', device_str)\n",
    "\n",
    "cpus = jax.devices(\"cpu\")\n",
    "gpus = jax.devices(\"gpu\")\n",
    "\n",
    "device = cpus[0] if device_str == \"cpu\" else gpus[0]"
   ]
  },
  {
   "cell_type": "markdown",
   "id": "d7a04787",
   "metadata": {},
   "source": [
    "# JAX\n",
    "\n",
    "### Define model"
   ]
  },
  {
   "cell_type": "code",
   "execution_count": 4,
   "id": "90b49d99",
   "metadata": {},
   "outputs": [],
   "source": [
    "nseg_per_branch = 16\n",
    "num_branches = 8\n",
    "ncomp = num_branches * nseg_per_branch\n",
    "parents = jnp.asarray([-1, 0, 0, 1, 1, 1, 4, 4])\n",
    "\n",
    "assert len(parents) == num_branches\n",
    "params = jnp.asarray([0.12, 0.036, 0.0003] * ncomp)\n",
    "u = jnp.asarray([-62.0, 0.074901, 0.4889, 0.3644787]*num_branches*nseg_per_branch)\n",
    "\n",
    "length = 100.0  # um (length of a single branch)\n",
    "radius = 10.0  # um\n",
    "r_a = 10_000  # ohm cm \n",
    "i_delay = 5.0  # ms\n",
    "i_amp = 1.0  # nA\n",
    "i_dur = 2.0  # ms\n",
    "dt = 0.025  # ms\n",
    "t_max = 20.0  # ms"
   ]
  },
  {
   "cell_type": "markdown",
   "id": "92992fa1",
   "metadata": {},
   "source": [
    "### Set up model"
   ]
  },
  {
   "cell_type": "code",
   "execution_count": 5,
   "id": "08e3f4ba",
   "metadata": {},
   "outputs": [],
   "source": [
    "time_vec = jnp.arange(0, t_max+dt, dt)"
   ]
  },
  {
   "cell_type": "code",
   "execution_count": 6,
   "id": "f89711c8",
   "metadata": {},
   "outputs": [],
   "source": [
    "cell = Cell(num_branches, parents, nseg_per_branch, length, radius, r_a)\n",
    "stims = [\n",
    "    Stimulus(0, 0.0, step_current(i_delay, i_dur, i_amp, time_vec)),\n",
    "]\n",
    "recs = [\n",
    "    Recording(0, 0.0),\n",
    "    Recording(0, 1.0),\n",
    "    Recording(1, 1.0),\n",
    "    Recording(4, 1.0),\n",
    "    Recording(6, 1.0),\n",
    "    Recording(7, 1.0),\n",
    "]"
   ]
  },
  {
   "cell_type": "markdown",
   "id": "db935683",
   "metadata": {},
   "source": [
    "### Run solver"
   ]
  },
  {
   "cell_type": "code",
   "execution_count": 8,
   "id": "a8401bcf",
   "metadata": {},
   "outputs": [
    {
     "name": "stdout",
     "output_type": "stream",
     "text": [
      "Time:  2.5162768363952637\n"
     ]
    }
   ],
   "source": [
    "start_time = time.time()\n",
    "s = solve(cell, u, params, stims, recs, t_max=t_max, dt=dt)\n",
    "print(\"Time: \", time.time() - start_time)"
   ]
  },
  {
   "cell_type": "markdown",
   "id": "9104968d",
   "metadata": {},
   "source": [
    "# NEURON"
   ]
  },
  {
   "cell_type": "code",
   "execution_count": 9,
   "id": "a0548a2a",
   "metadata": {},
   "outputs": [
    {
     "data": {
      "text/plain": [
       "__nrnsec_0x4bf8ae0"
      ]
     },
     "execution_count": 9,
     "metadata": {},
     "output_type": "execute_result"
    }
   ],
   "source": [
    "soma = h.Section()\n",
    "denda1 = h.Section()\n",
    "denda2 = h.Section()\n",
    "dendb1 = h.Section()\n",
    "dendb2 = h.Section()\n",
    "dendb3 = h.Section()\n",
    "dendc1 = h.Section()\n",
    "dendc2 = h.Section()\n",
    "\n",
    "denda1.connect(soma, 1, 0)\n",
    "denda2.connect(soma, 1, 0)\n",
    "dendb1.connect(denda1, 1, 0)\n",
    "dendb2.connect(denda1, 1, 0)\n",
    "dendb3.connect(denda1, 1, 0)\n",
    "dendc1.connect(dendb2, 1, 0)\n",
    "dendc2.connect(dendb2, 1, 0)"
   ]
  },
  {
   "cell_type": "code",
   "execution_count": 10,
   "id": "8ab405a1",
   "metadata": {},
   "outputs": [
    {
     "data": {
      "text/plain": [
       "Vector[5]"
      ]
     },
     "execution_count": 10,
     "metadata": {},
     "output_type": "execute_result"
    }
   ],
   "source": [
    "stim = h.IClamp(soma(0.0))\n",
    "stim.delay = i_delay\n",
    "stim.dur = i_dur\n",
    "stim.amp = i_amp\n",
    "\n",
    "voltage_soma = h.Vector()\n",
    "voltage_soma.record(soma(0.0)._ref_v)\n",
    "\n",
    "voltage_somaend = h.Vector()\n",
    "voltage_somaend.record(soma(1.0)._ref_v)\n",
    "\n",
    "voltage_dend1 = h.Vector()\n",
    "voltage_dend1.record(denda1(1.0)._ref_v)\n",
    "\n",
    "voltage_dend4 = h.Vector()\n",
    "voltage_dend4.record(dendb2(1.0)._ref_v)\n",
    "\n",
    "voltage_dend6 = h.Vector()\n",
    "voltage_dend6.record(dendc1(1.0)._ref_v)\n",
    "\n",
    "voltage_dend7 = h.Vector()\n",
    "voltage_dend7.record(dendc2(1.0)._ref_v)"
   ]
  },
  {
   "cell_type": "code",
   "execution_count": 11,
   "id": "0b391a8c",
   "metadata": {},
   "outputs": [],
   "source": [
    "for sec in h.allsec():\n",
    "    sec.insert(\"hh\")\n",
    "    sec.L = length\n",
    "    sec.nseg = nseg_per_branch\n",
    "    sec.diam = radius * 2\n",
    "    sec.Ra = r_a\n",
    "    \n",
    "    sec.gnabar_hh = 0.120  # S/cm2\n",
    "    sec.gkbar_hh = 0.036  # S/cm2\n",
    "    sec.gl_hh = 0.0003  # S/cm2\n",
    "    sec.ena = 50  # mV\n",
    "    sec.ek = -77.0  # mV\n",
    "    sec.el_hh = -54.3  # mV"
   ]
  },
  {
   "cell_type": "code",
   "execution_count": 12,
   "id": "951a76d2",
   "metadata": {},
   "outputs": [],
   "source": [
    "h.dt = dt\n",
    "tstop = 20.0\n",
    "v_init = -62.0\n",
    "def initialize():\n",
    "    h.finitialize(v_init)\n",
    "    h.fcurrent()\n",
    "    \n",
    "def integrate():\n",
    "    while h.t < tstop:\n",
    "        h.fadvance()"
   ]
  },
  {
   "cell_type": "code",
   "execution_count": 13,
   "id": "e57d3850",
   "metadata": {},
   "outputs": [],
   "source": [
    "initialize()\n",
    "integrate()"
   ]
  },
  {
   "cell_type": "code",
   "execution_count": 14,
   "id": "6d3ab9c0",
   "metadata": {},
   "outputs": [
    {
     "data": {
      "image/png": "[encoded data removed]",
      "text/plain": [
       "<Figure size 1200x160 with 6 Axes>"
      ]
     },
     "metadata": {},
     "output_type": "display_data"
    }
   ],
   "source": [
    "with mpl.rc_context(fname=\".matplotlibrc\"):\n",
    "    fig, ax = plt.subplots(1, 6, figsize=(12, 1.6))\n",
    "    for i in range(6):\n",
    "        _ = ax[i].plot(time_vec, s[i], c=\"k\")\n",
    "\n",
    "    _ = ax[0].plot(time_vec, list(voltage_soma)[:-1], c=\"g\", linestyle=\"--\")\n",
    "    _ = ax[1].plot(time_vec, list(voltage_somaend)[:-1], c=\"g\", linestyle=\"--\")\n",
    "    _ = ax[2].plot(time_vec, list(voltage_dend1)[:-1], c=\"g\", linestyle=\"--\")\n",
    "    _ = ax[3].plot(time_vec, list(voltage_dend4)[:-1], c=\"g\", linestyle=\"--\")\n",
    "    _ = ax[4].plot(time_vec, list(voltage_dend6)[:-1], c=\"g\", linestyle=\"--\")\n",
    "    _ = ax[5].plot(time_vec, list(voltage_dend7)[:-1], c=\"g\", linestyle=\"--\")\n",
    "\n",
    "    _ = ax[2].set_xlabel(\"Time (ms)\")\n",
    "    _ = ax[0].set_ylabel(\"Voltage (mV)\")\n",
    "    \n",
    "    for a in ax[1:]:\n",
    "        a.set_yticklabels([])\n",
    "    for a in ax:\n",
    "        _ = a.set_ylim([-80, 50])\n",
    "        a.set_xticks([0, 20])\n",
    "        a.set_xlim([0, 20])\n",
    "    ax[5].legend([\"Neurax\", \"NEURON\"], loc=\"upper right\", bbox_to_anchor=[1.3, 1.0, 0.0, 0.0])\n",
    "    plt.savefig(\"../../results/neurax_vs_neuron_acc.png\", dpi=200, bbox_inches=\"tight\")\n",
    "    plt.show()"
   ]
  },
  {
   "cell_type": "code",
   "execution_count": null,
   "id": "60a49444",
   "metadata": {},
   "outputs": [],
   "source": [
    "    "
   ]
  },
  {
   "cell_type": "code",
   "execution_count": null,
   "id": "2aebab52",
   "metadata": {},
   "outputs": [],
   "source": []
  }
 ],
 "metadata": {
  "kernelspec": {
   "display_name": "Python 3 (ipykernel)",
   "language": "python",
   "name": "python3"
  },
  "language_info": {
   "codemirror_mode": {
    "name": "ipython",
    "version": 3
   },
   "file_extension": ".py",
   "mimetype": "text/x-python",
   "name": "python",
   "nbconvert_exporter": "python",
   "pygments_lexer": "ipython3",
   "version": "3.10.9"
  }
 },
 "nbformat": 4,
 "nbformat_minor": 5
}
