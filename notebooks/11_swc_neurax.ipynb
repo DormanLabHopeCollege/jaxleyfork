{
 "cells": [
  {
   "cell_type": "code",
   "execution_count": 1,
   "id": "6bf6d49b",
   "metadata": {},
   "outputs": [],
   "source": [
    "from jax.config import config\n",
    "config.update(\"jax_enable_x64\", True)"
   ]
  },
  {
   "cell_type": "code",
   "execution_count": 2,
   "id": "eaf01f64",
   "metadata": {},
   "outputs": [],
   "source": [
    "%load_ext autoreload\n",
    "%autoreload 2"
   ]
  },
  {
   "cell_type": "code",
   "execution_count": 3,
   "id": "806af476",
   "metadata": {},
   "outputs": [
    {
     "name": "stderr",
     "output_type": "stream",
     "text": [
      "Warning: no DISPLAY environment variable.\n",
      "--No graphics will be displayed.\n"
     ]
    }
   ],
   "source": [
    "import os\n",
    "os.environ[\"XLA_PYTHON_CLIENT_MEM_FRACTION\"]=\".4\"\n",
    "\n",
    "import time\n",
    "import matplotlib.pyplot as plt\n",
    "import matplotlib as mpl\n",
    "import numpy as np\n",
    "from copy import deepcopy\n",
    "\n",
    "import jax\n",
    "import jax.numpy as jnp\n",
    "from jax import jit, lax, grad, value_and_grad, vmap\n",
    "import optax\n",
    "import distrax\n",
    "\n",
    "from neuron import h\n",
    "_ = h.load_file(\"stdlib.hoc\")\n",
    "\n",
    "from neurax.integrate import solve\n",
    "from neurax.cell import Cell, equal_segments, linear_segments, _compute_num_kids, _compute_index_of_kid, compute_levels, compute_branches_in_level\n",
    "from neurax.stimulus import Stimulus, step_current\n",
    "from neurax.recording import Recording\n",
    "from neurax.connection import Connection, Connectivity\n",
    "from neurax.utils.plot_utils import plot_morph\n",
    "from neurax.mechanisms.hh_neuron import hh_neuron_gate\n",
    "from neurax.mechanisms.glutamate_synapse import glutamate\n",
    "from neurax.cell import merge_cells\n",
    "from neurax.utils.swc import read_swc, _split_into_branches, _build_parents, _extract_endpoint_radiuses, _compute_pathlengths"
   ]
  },
  {
   "cell_type": "code",
   "execution_count": 4,
   "id": "a594586d",
   "metadata": {},
   "outputs": [],
   "source": [
    "device_str = \"cpu\"\n",
    "jax.config.update('jax_platform_name', device_str)\n",
    "\n",
    "cpus = jax.devices(\"cpu\")\n",
    "gpus = jax.devices(\"gpu\")\n",
    "\n",
    "device = cpus[0] if device_str == \"cpu\" else gpus[0]"
   ]
  },
  {
   "cell_type": "markdown",
   "id": "7c0e4594",
   "metadata": {},
   "source": [
    "### Hyperparameters"
   ]
  },
  {
   "cell_type": "code",
   "execution_count": 5,
   "id": "4ef6fc03",
   "metadata": {},
   "outputs": [],
   "source": [
    "nseg_per_branch = 16\n",
    "\n",
    "r_a = 5_000  # ohm cm \n",
    "i_delay = 3.0  # ms\n",
    "i_amp = 0.2  # nA\n",
    "i_dur = 2.0  # ms\n",
    "dt = 0.025  # ms\n",
    "t_max = 50.0  # ms"
   ]
  },
  {
   "cell_type": "markdown",
   "id": "42426d3b",
   "metadata": {},
   "source": [
    "\n",
    "### Morphology"
   ]
  },
  {
   "cell_type": "code",
   "execution_count": 6,
   "id": "6ed8de9d",
   "metadata": {},
   "outputs": [
    {
     "name": "stdout",
     "output_type": "stream",
     "text": [
      "num_branches 15\n"
     ]
    },
    {
     "data": {
      "text/plain": [
       "Array([-1,  0,  0,  1,  1,  3,  3,  5,  5,  7,  7,  6,  6,  2,  2], dtype=int64)"
      ]
     },
     "execution_count": 6,
     "metadata": {},
     "output_type": "execute_result"
    }
   ],
   "source": [
    "parents, lengths, endpoint_rads, start_rad = read_swc(\"subset400.swc\")\n",
    "parents = jnp.asarray(parents)\n",
    "print(\"num_branches\", len(parents))\n",
    "parents"
   ]
  },
  {
   "cell_type": "code",
   "execution_count": 7,
   "id": "271995f8",
   "metadata": {},
   "outputs": [],
   "source": [
    "# for i, _ in enumerate(lengths):\n",
    "#     if lengths[i] < 20.0:\n",
    "#         lengths[i] = 20.0"
   ]
  },
  {
   "cell_type": "code",
   "execution_count": 8,
   "id": "560aaa25",
   "metadata": {},
   "outputs": [],
   "source": [
    "# linear_segments"
   ]
  },
  {
   "cell_type": "code",
   "execution_count": 9,
   "id": "992e9055",
   "metadata": {},
   "outputs": [],
   "source": [
    "num_branches = len(parents)\n",
    "ncomp = num_branches * nseg_per_branch\n",
    "\n",
    "lengths = equal_segments(lengths, nseg_per_branch)\n",
    "radiuses = linear_segments(2.5, endpoint_rads, parents, nseg_per_branch)\n",
    "# radiuses = equal_segments(endpoint_rads, nseg_per_branch)\n",
    "\n",
    "cell1 = Cell(num_branches, parents, nseg_per_branch, lengths, radiuses, r_a)"
   ]
  },
  {
   "cell_type": "markdown",
   "id": "6aeb0cea",
   "metadata": {},
   "source": [
    "### Run"
   ]
  },
  {
   "cell_type": "code",
   "execution_count": 10,
   "id": "49ac9585",
   "metadata": {},
   "outputs": [],
   "source": [
    "# Initialize voltage\n",
    "init_v = [\n",
    "    jnp.asarray([-62.0] * num_branches*nseg_per_branch), \n",
    "]\n",
    "\n",
    "# Initialize states\n",
    "hh_states = [\n",
    "    jnp.stack(\n",
    "        [\n",
    "            jnp.asarray([0.074901] * num_branches*nseg_per_branch), \n",
    "            jnp.asarray([0.4889] * num_branches*nseg_per_branch),\n",
    "            jnp.asarray([0.3644787] * num_branches*nseg_per_branch),\n",
    "        ]\n",
    "    ),\n",
    "]"
   ]
  },
  {
   "cell_type": "markdown",
   "id": "caa2b6f1",
   "metadata": {},
   "source": [
    "### Set up model"
   ]
  },
  {
   "cell_type": "code",
   "execution_count": 11,
   "id": "231cb9a0",
   "metadata": {},
   "outputs": [],
   "source": [
    "time_vec = jnp.arange(0.0, t_max+dt, dt)"
   ]
  },
  {
   "cell_type": "code",
   "execution_count": 12,
   "id": "1f326d80",
   "metadata": {},
   "outputs": [],
   "source": [
    "cells = [cell1]\n",
    "recs = [\n",
    "    Recording(0, 0, 0.0),\n",
    "]\n",
    "for p in range(len(parents)):\n",
    "    recs += [Recording(0, p, 1.0)]\n",
    "\n",
    "conns = [Connection(0, 0, 0.0, 0, 3, 0.0)]\n",
    "connectivities = [Connectivity(conns, nseg_per_branch)]\n",
    "stims = [Stimulus(0, 0, 0.0, current=step_current(i_delay, i_dur, i_amp, time_vec))]"
   ]
  },
  {
   "cell_type": "markdown",
   "id": "586552d6",
   "metadata": {},
   "source": [
    "### Define parameters"
   ]
  },
  {
   "cell_type": "code",
   "execution_count": 13,
   "id": "b933ae95",
   "metadata": {},
   "outputs": [],
   "source": [
    "hh_params = [\n",
    "    jnp.stack(\n",
    "        [\n",
    "            jnp.asarray([0.12] * num_branches*nseg_per_branch), \n",
    "            jnp.asarray([0.036] * num_branches*nseg_per_branch),\n",
    "            jnp.asarray([0.0003] * num_branches*nseg_per_branch),\n",
    "        ]\n",
    "    ),\n",
    "]\n",
    "\n",
    "synapse_params = jnp.asarray([0.0] * len(conns))"
   ]
  },
  {
   "cell_type": "markdown",
   "id": "7b082fd3",
   "metadata": {},
   "source": [
    "### ODE"
   ]
  },
  {
   "cell_type": "code",
   "execution_count": 14,
   "id": "d56f8d4a",
   "metadata": {},
   "outputs": [],
   "source": [
    "mem_channels = [hh_neuron_gate,]\n",
    "mem_states = [hh_states,]\n",
    "mem_params = [hh_params,]"
   ]
  },
  {
   "cell_type": "code",
   "execution_count": 15,
   "id": "cbe48e50",
   "metadata": {},
   "outputs": [],
   "source": [
    "syn_channels = [glutamate,]\n",
    "syn_states = [jnp.zeros((len(conns))),]\n",
    "syn_params = [synapse_params,]"
   ]
  },
  {
   "cell_type": "code",
   "execution_count": 16,
   "id": "c6a7905a",
   "metadata": {},
   "outputs": [],
   "source": [
    "s = solve(\n",
    "    cells,\n",
    "    connectivities,\n",
    "    init_v,\n",
    "    mem_states=mem_states,\n",
    "    mem_params=mem_params,\n",
    "    mem_channels=mem_channels,\n",
    "    syn_states=syn_states,\n",
    "    syn_params=syn_params,\n",
    "    syn_channels=syn_channels,\n",
    "    stimuli=stims,\n",
    "    recordings=recs,\n",
    "    t_max=t_max,\n",
    "    dt=dt,\n",
    "    solver=\"thomas\",\n",
    "    checkpoint_inds=[]\n",
    ")"
   ]
  },
  {
   "cell_type": "code",
   "execution_count": 17,
   "id": "f786ec78",
   "metadata": {},
   "outputs": [
    {
     "data": {
      "image/png": "[encoded data removed]",
      "text/plain": [
       "<Figure size 600x200 with 1 Axes>"
      ]
     },
     "metadata": {},
     "output_type": "display_data"
    }
   ],
   "source": [
    "with mpl.rc_context(fname=\".matplotlibrc\"):\n",
    "    fig, ax = plt.subplots(1, 1, figsize=(6, 2))\n",
    "    for i in range(len(parents)):\n",
    "        _ = ax.plot(time_vec, s[i])\n",
    "    ax.set_xlabel(\"\")\n",
    "    ax.set_xticks([])\n",
    "    ax.set_xticks(np.arange(0, max(time_vec)+1, 10))\n",
    "    ax.set_xlim([0, max(time_vec)])\n",
    "    ax.set_xlabel(\"Time (ms)\")\n",
    "    ax.set_ylabel(\"Voltage (mV)\")\n",
    "    plt.subplots_adjust(hspace=0.4)\n",
    "    plt.show()"
   ]
  },
  {
   "cell_type": "code",
   "execution_count": null,
   "id": "1a9dfb2d",
   "metadata": {},
   "outputs": [],
   "source": []
  },
  {
   "cell_type": "code",
   "execution_count": null,
   "id": "44001788",
   "metadata": {},
   "outputs": [],
   "source": []
  },
  {
   "cell_type": "code",
   "execution_count": null,
   "id": "49e7763a",
   "metadata": {},
   "outputs": [],
   "source": []
  },
  {
   "cell_type": "code",
   "execution_count": null,
   "id": "c7584ce3",
   "metadata": {},
   "outputs": [],
   "source": []
  }
 ],
 "metadata": {
  "kernelspec": {
   "display_name": "Python 3 (ipykernel)",
   "language": "python",
   "name": "python3"
  },
  "language_info": {
   "codemirror_mode": {
    "name": "ipython",
    "version": 3
   },
   "file_extension": ".py",
   "mimetype": "text/x-python",
   "name": "python",
   "nbconvert_exporter": "python",
   "pygments_lexer": "ipython3",
   "version": "3.10.9"
  }
 },
 "nbformat": 4,
 "nbformat_minor": 5
}
