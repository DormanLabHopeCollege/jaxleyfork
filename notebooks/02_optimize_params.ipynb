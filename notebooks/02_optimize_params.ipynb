{
 "cells": [
  {
   "cell_type": "code",
   "execution_count": 1,
   "id": "414f8add",
   "metadata": {},
   "outputs": [],
   "source": [
    "%load_ext autoreload\n",
    "%autoreload 2"
   ]
  },
  {
   "cell_type": "code",
   "execution_count": 2,
   "id": "3cdf06be",
   "metadata": {},
   "outputs": [
    {
     "name": "stderr",
     "output_type": "stream",
     "text": [
      "Warning: no DISPLAY environment variable.\n",
      "--No graphics will be displayed.\n"
     ]
    }
   ],
   "source": [
    "import os\n",
    "os.environ[\"XLA_PYTHON_CLIENT_MEM_FRACTION\"]=\".2\"\n",
    "\n",
    "import time\n",
    "import matplotlib.pyplot as plt\n",
    "import matplotlib as mpl\n",
    "import numpy as np\n",
    "from copy import deepcopy\n",
    "\n",
    "import jax\n",
    "import jax.numpy as jnp\n",
    "from jax import jit, lax, grad, value_and_grad\n",
    "import optax\n",
    "import distrax\n",
    "\n",
    "from neuron import h\n",
    "_ = h.load_file(\"stdlib.hoc\")\n",
    "\n",
    "from neurax.integrate import solve\n",
    "from neurax.cell import Cell\n",
    "from neurax.stimulus import Stimulus, step_current\n",
    "from neurax.recording import Recording\n",
    "from neurax.connection import Connection"
   ]
  },
  {
   "cell_type": "code",
   "execution_count": 3,
   "id": "55c91768",
   "metadata": {},
   "outputs": [],
   "source": [
    "device_str = \"cpu\"\n",
    "jax.config.update('jax_platform_name', device_str)\n",
    "\n",
    "cpus = jax.devices(\"cpu\")\n",
    "gpus = jax.devices(\"gpu\")\n",
    "\n",
    "device = cpus[0] if device_str == \"cpu\" else gpus[0]"
   ]
  },
  {
   "cell_type": "markdown",
   "id": "feb89da5",
   "metadata": {},
   "source": [
    "# Solve\n",
    "\n",
    "### Define model"
   ]
  },
  {
   "cell_type": "code",
   "execution_count": 79,
   "id": "20e6177f",
   "metadata": {},
   "outputs": [],
   "source": [
    "def sigmoid(x):\n",
    "    return 1 / (1 + jnp.exp(-x))\n",
    "\n",
    "def expit(x):\n",
    "    return -jnp.log(1 / x - 1)\n",
    "\n",
    "lower_gna = jnp.asarray([[0.06] * ncomp] * num_cells)\n",
    "upper_gna = jnp.asarray([[0.18] * ncomp] * num_cells)\n",
    "\n",
    "lower_gkd = jnp.asarray([[0.02] * ncomp] * num_cells)\n",
    "upper_gkd = jnp.asarray([[0.05] * ncomp] * num_cells)\n",
    "\n",
    "lower_gleak = jnp.asarray([[0.0001] * ncomp] * num_cells)\n",
    "upper_gleak = jnp.asarray([[0.0005] * ncomp] * num_cells)\n",
    "\n",
    "lower = jnp.stack([lower_gna, lower_gkd, lower_gleak])\n",
    "upper = jnp.stack([upper_gna, upper_gkd, upper_gleak])\n",
    "\n",
    "tf = distrax.Lambda(\n",
    "    forward=lambda x: sigmoid(x) * (upper-lower) + lower, \n",
    "    inverse=lambda x: expit((x - lower) / (upper - lower))\n",
    ")"
   ]
  },
  {
   "cell_type": "code",
   "execution_count": 80,
   "id": "6d256e62",
   "metadata": {},
   "outputs": [],
   "source": [
    "num_cells = 8\n",
    "nseg_per_branch = 4\n",
    "num_branches = 15\n",
    "ncomp = num_branches * nseg_per_branch\n",
    "parents = jnp.asarray([-1, 0, 0, 1, 1, 2, 2, 3, 3, 4, 4, 5, 5, 6, 6])\n",
    "\n",
    "assert len(parents) == num_branches\n",
    "g_na = jnp.asarray([[0.12] * ncomp] * num_cells)\n",
    "g_kd = jnp.asarray([[0.036] * ncomp] * num_cells)\n",
    "g_leak = jnp.asarray([[0.0003] * ncomp] * num_cells)\n",
    "params = jnp.stack([g_na, g_kd, g_leak])\n",
    "\n",
    "init_v = jnp.asarray([[-62.0] *num_branches*nseg_per_branch] * num_cells)\n",
    "init_m = jnp.asarray([[0.074901] *num_branches*nseg_per_branch] * num_cells)\n",
    "init_h = jnp.asarray([[0.4889] *num_branches*nseg_per_branch] * num_cells)\n",
    "init_n = jnp.asarray([[0.3644787] *num_branches*nseg_per_branch] * num_cells)\n",
    "u = jnp.stack([init_v, init_m, init_h, init_n])\n",
    "\n",
    "length = 100.0  # um (length of a single branch)\n",
    "radius = 10.0  # um\n",
    "r_a = 10_000  # ohm cm \n",
    "i_delay = 5.0  # ms\n",
    "i_amp = 1.0  # nA\n",
    "i_dur = 2.0  # ms\n",
    "dt = 0.025  # ms\n",
    "t_max = 20.0  # ms"
   ]
  },
  {
   "cell_type": "markdown",
   "id": "57a8c1ca",
   "metadata": {},
   "source": [
    "### Set up model"
   ]
  },
  {
   "cell_type": "code",
   "execution_count": 81,
   "id": "5e746254",
   "metadata": {},
   "outputs": [],
   "source": [
    "time_vec = jnp.arange(0, t_max+dt, dt)"
   ]
  },
  {
   "cell_type": "code",
   "execution_count": 82,
   "id": "657ca489",
   "metadata": {},
   "outputs": [],
   "source": [
    "cells = [Cell(num_branches, parents, nseg_per_branch, length, radius, r_a)] * num_cells\n",
    "stims = [\n",
    "    Stimulus(cell_ind=0, branch_ind=0, loc=0.0, current=step_current(i_delay, i_dur, i_amp, time_vec)),\n",
    "    Stimulus(cell_ind=1, branch_ind=0, loc=0.0, current=step_current(i_delay, i_dur, i_amp, time_vec)),\n",
    "]\n",
    "recs = [\n",
    "    Recording(0, 0, 0.0),\n",
    "    Recording(0, 6, 1.0),\n",
    "    Recording(1, 0, 0.0),\n",
    "    Recording(1, 6, 1.0),\n",
    "    Recording(3, 0, 0.0),\n",
    "    Recording(3, 6, 1.0),\n",
    "    Recording(4, 0, 0.0),\n",
    "    Recording(4, 6, 1.0),\n",
    "]\n",
    "conns = [\n",
    "    Connection(0, 0, 0.0, 3, 0, 0.0, synaptic_cond=1.0),\n",
    "    Connection(1, 0, 0.0, 3, 0, 0.3, synaptic_cond=1.0),\n",
    "]"
   ]
  },
  {
   "cell_type": "markdown",
   "id": "a71d8fb1",
   "metadata": {},
   "source": [
    "# Gradient"
   ]
  },
  {
   "cell_type": "code",
   "execution_count": 83,
   "id": "1cac967f",
   "metadata": {},
   "outputs": [],
   "source": [
    "checkpoint_inds = [200, 400, 600]\n",
    "def sum_ode(diff_params):\n",
    "    constrained_params = tf.forward(diff_params)\n",
    "    s = solve(\n",
    "        cells, \n",
    "        u, \n",
    "        constrained_params, \n",
    "        stims, \n",
    "        recs, \n",
    "        conns, \n",
    "        t_max=t_max, \n",
    "        dt=dt, \n",
    "        solver=\"stone\", \n",
    "        checkpoint_inds=checkpoint_inds\n",
    "    )\n",
    "    return jnp.mean(s)"
   ]
  },
  {
   "cell_type": "code",
   "execution_count": 84,
   "id": "b8e84434",
   "metadata": {},
   "outputs": [],
   "source": [
    "jitted_sum_ode = jit(sum_ode)"
   ]
  },
  {
   "cell_type": "code",
   "execution_count": 87,
   "id": "47b996a8",
   "metadata": {},
   "outputs": [
    {
     "name": "stdout",
     "output_type": "stream",
     "text": [
      "Time:   0.036626577377319336\n"
     ]
    }
   ],
   "source": [
    "start_time = time.time()\n",
    "result = jitted_sum_ode(tf.inverse(params))\n",
    "print(\"Time:  \", time.time() - start_time)"
   ]
  },
  {
   "cell_type": "code",
   "execution_count": 88,
   "id": "f9ee5d3d",
   "metadata": {},
   "outputs": [],
   "source": [
    "jitted_grad = jit(value_and_grad(sum_ode))"
   ]
  },
  {
   "cell_type": "code",
   "execution_count": 91,
   "id": "ab537e27",
   "metadata": {},
   "outputs": [
    {
     "name": "stdout",
     "output_type": "stream",
     "text": [
      "Time:   0.16089892387390137\n",
      "Solve -60.95626\n",
      "Grad [[ 0.00038098]\n",
      " [-0.0042358 ]\n",
      " [ 0.00612676]]\n"
     ]
    }
   ],
   "source": [
    "start_time = time.time()\n",
    "result = jitted_grad(tf.inverse(params))\n",
    "print(\"Time:  \", time.time() - start_time)\n",
    "print(\"Solve\", result[0])\n",
    "print(\"Grad\", result[1][:, 0, ::100])"
   ]
  },
  {
   "cell_type": "markdown",
   "id": "8b4b0522",
   "metadata": {},
   "source": [
    "# Optimize"
   ]
  },
  {
   "cell_type": "code",
   "execution_count": 153,
   "id": "973e327e",
   "metadata": {},
   "outputs": [],
   "source": [
    "g_na = jnp.asarray([[0.12] * ncomp] * num_cells)\n",
    "g_kd = jnp.asarray([[0.036] * ncomp] * num_cells)\n",
    "g_leak = jnp.asarray([[0.0003] * ncomp] * num_cells)\n",
    "opt_params = tf.inverse(jnp.stack([g_na, g_kd, g_leak]))"
   ]
  },
  {
   "cell_type": "code",
   "execution_count": 154,
   "id": "35036c21",
   "metadata": {},
   "outputs": [],
   "source": [
    "optimizer = optax.adam(learning_rate=1e-2)\n",
    "opt_state = optimizer.init(opt_params)"
   ]
  },
  {
   "cell_type": "code",
   "execution_count": 156,
   "id": "2ee88dd7",
   "metadata": {},
   "outputs": [
    {
     "name": "stdout",
     "output_type": "stream",
     "text": [
      "iter 0, loss -65.22089385986328\n",
      "iter 1, loss -65.22219848632812\n",
      "iter 2, loss -65.22350311279297\n",
      "iter 3, loss -65.22479248046875\n",
      "iter 4, loss -65.22611999511719\n",
      "iter 5, loss -65.2274169921875\n",
      "iter 6, loss -65.22872924804688\n",
      "iter 7, loss -65.23002624511719\n",
      "iter 8, loss -65.23130798339844\n",
      "iter 9, loss -65.23260498046875\n"
     ]
    }
   ],
   "source": [
    "num_iter = 10\n",
    "for iter_ in range(num_iter):\n",
    "    loss, grad = jitted_grad(opt_params)\n",
    "    if jnp.any(jnp.isnan(grad)):\n",
    "        print(f\"iter {iter_}, loss {loss}, ============= skipping\")\n",
    "        opt_params = opt_params.at[0, 0, 0].add(1e-3)\n",
    "    else:\n",
    "        print(f\"iter {iter_}, loss {loss}\")\n",
    "        updates, opt_state = optimizer.update(grad, opt_state)\n",
    "        opt_params = optax.apply_updates(opt_params, updates)\n",
    "    \n",
    "final_params = tf.forward(opt_params)"
   ]
  },
  {
   "cell_type": "code",
   "execution_count": 128,
   "id": "3dd20a31",
   "metadata": {},
   "outputs": [
    {
     "data": {
      "text/plain": [
       "Array(-61.988945, dtype=float32)"
      ]
     },
     "execution_count": 128,
     "metadata": {},
     "output_type": "execute_result"
    }
   ],
   "source": [
    "jitted_sum_ode(opt_params)"
   ]
  },
  {
   "cell_type": "code",
   "execution_count": null,
   "id": "7d28c251",
   "metadata": {},
   "outputs": [],
   "source": []
  }
 ],
 "metadata": {
  "kernelspec": {
   "display_name": "Python 3 (ipykernel)",
   "language": "python",
   "name": "python3"
  },
  "language_info": {
   "codemirror_mode": {
    "name": "ipython",
    "version": 3
   },
   "file_extension": ".py",
   "mimetype": "text/x-python",
   "name": "python",
   "nbconvert_exporter": "python",
   "pygments_lexer": "ipython3",
   "version": "3.10.9"
  }
 },
 "nbformat": 4,
 "nbformat_minor": 5
}
